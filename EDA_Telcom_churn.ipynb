{
  "nbformat": 4,
  "nbformat_minor": 0,
  "metadata": {
    "colab": {
      "name": "EDA_Telcom_churn.ipynb",
      "provenance": [],
      "collapsed_sections": [],
      "include_colab_link": true
    },
    "kernelspec": {
      "name": "python3",
      "display_name": "Python 3"
    }
  },
  "cells": [
    {
      "cell_type": "markdown",
      "metadata": {
        "id": "view-in-github",
        "colab_type": "text"
      },
      "source": [
        "<a href=\"https://colab.research.google.com/github/aparna-ks/EDA/blob/master/EDA_Telcom_churn.ipynb\" target=\"_parent\"><img src=\"https://colab.research.google.com/assets/colab-badge.svg\" alt=\"Open In Colab\"/></a>"
      ]
    },
    {
      "cell_type": "code",
      "metadata": {
        "id": "O000oWRsmyzR",
        "colab": {
          "resources": {
            "http://localhost:8080/nbextensions/google.colab/files.js": {
              "data": "Ly8gQ29weXJpZ2h0IDIwMTcgR29vZ2xlIExMQwovLwovLyBMaWNlbnNlZCB1bmRlciB0aGUgQXBhY2hlIExpY2Vuc2UsIFZlcnNpb24gMi4wICh0aGUgIkxpY2Vuc2UiKTsKLy8geW91IG1heSBub3QgdXNlIHRoaXMgZmlsZSBleGNlcHQgaW4gY29tcGxpYW5jZSB3aXRoIHRoZSBMaWNlbnNlLgovLyBZb3UgbWF5IG9idGFpbiBhIGNvcHkgb2YgdGhlIExpY2Vuc2UgYXQKLy8KLy8gICAgICBodHRwOi8vd3d3LmFwYWNoZS5vcmcvbGljZW5zZXMvTElDRU5TRS0yLjAKLy8KLy8gVW5sZXNzIHJlcXVpcmVkIGJ5IGFwcGxpY2FibGUgbGF3IG9yIGFncmVlZCB0byBpbiB3cml0aW5nLCBzb2Z0d2FyZQovLyBkaXN0cmlidXRlZCB1bmRlciB0aGUgTGljZW5zZSBpcyBkaXN0cmlidXRlZCBvbiBhbiAiQVMgSVMiIEJBU0lTLAovLyBXSVRIT1VUIFdBUlJBTlRJRVMgT1IgQ09ORElUSU9OUyBPRiBBTlkgS0lORCwgZWl0aGVyIGV4cHJlc3Mgb3IgaW1wbGllZC4KLy8gU2VlIHRoZSBMaWNlbnNlIGZvciB0aGUgc3BlY2lmaWMgbGFuZ3VhZ2UgZ292ZXJuaW5nIHBlcm1pc3Npb25zIGFuZAovLyBsaW1pdGF0aW9ucyB1bmRlciB0aGUgTGljZW5zZS4KCi8qKgogKiBAZmlsZW92ZXJ2aWV3IEhlbHBlcnMgZm9yIGdvb2dsZS5jb2xhYiBQeXRob24gbW9kdWxlLgogKi8KKGZ1bmN0aW9uKHNjb3BlKSB7CmZ1bmN0aW9uIHNwYW4odGV4dCwgc3R5bGVBdHRyaWJ1dGVzID0ge30pIHsKICBjb25zdCBlbGVtZW50ID0gZG9jdW1lbnQuY3JlYXRlRWxlbWVudCgnc3BhbicpOwogIGVsZW1lbnQudGV4dENvbnRlbnQgPSB0ZXh0OwogIGZvciAoY29uc3Qga2V5IG9mIE9iamVjdC5rZXlzKHN0eWxlQXR0cmlidXRlcykpIHsKICAgIGVsZW1lbnQuc3R5bGVba2V5XSA9IHN0eWxlQXR0cmlidXRlc1trZXldOwogIH0KICByZXR1cm4gZWxlbWVudDsKfQoKLy8gTWF4IG51bWJlciBvZiBieXRlcyB3aGljaCB3aWxsIGJlIHVwbG9hZGVkIGF0IGEgdGltZS4KY29uc3QgTUFYX1BBWUxPQURfU0laRSA9IDEwMCAqIDEwMjQ7CgpmdW5jdGlvbiBfdXBsb2FkRmlsZXMoaW5wdXRJZCwgb3V0cHV0SWQpIHsKICBjb25zdCBzdGVwcyA9IHVwbG9hZEZpbGVzU3RlcChpbnB1dElkLCBvdXRwdXRJZCk7CiAgY29uc3Qgb3V0cHV0RWxlbWVudCA9IGRvY3VtZW50LmdldEVsZW1lbnRCeUlkKG91dHB1dElkKTsKICAvLyBDYWNoZSBzdGVwcyBvbiB0aGUgb3V0cHV0RWxlbWVudCB0byBtYWtlIGl0IGF2YWlsYWJsZSBmb3IgdGhlIG5leHQgY2FsbAogIC8vIHRvIHVwbG9hZEZpbGVzQ29udGludWUgZnJvbSBQeXRob24uCiAgb3V0cHV0RWxlbWVudC5zdGVwcyA9IHN0ZXBzOwoKICByZXR1cm4gX3VwbG9hZEZpbGVzQ29udGludWUob3V0cHV0SWQpOwp9CgovLyBUaGlzIGlzIHJvdWdobHkgYW4gYXN5bmMgZ2VuZXJhdG9yIChub3Qgc3VwcG9ydGVkIGluIHRoZSBicm93c2VyIHlldCksCi8vIHdoZXJlIHRoZXJlIGFyZSBtdWx0aXBsZSBhc3luY2hyb25vdXMgc3RlcHMgYW5kIHRoZSBQeXRob24gc2lkZSBpcyBnb2luZwovLyB0byBwb2xsIGZvciBjb21wbGV0aW9uIG9mIGVhY2ggc3RlcC4KLy8gVGhpcyB1c2VzIGEgUHJvbWlzZSB0byBibG9jayB0aGUgcHl0aG9uIHNpZGUgb24gY29tcGxldGlvbiBvZiBlYWNoIHN0ZXAsCi8vIHRoZW4gcGFzc2VzIHRoZSByZXN1bHQgb2YgdGhlIHByZXZpb3VzIHN0ZXAgYXMgdGhlIGlucHV0IHRvIHRoZSBuZXh0IHN0ZXAuCmZ1bmN0aW9uIF91cGxvYWRGaWxlc0NvbnRpbnVlKG91dHB1dElkKSB7CiAgY29uc3Qgb3V0cHV0RWxlbWVudCA9IGRvY3VtZW50LmdldEVsZW1lbnRCeUlkKG91dHB1dElkKTsKICBjb25zdCBzdGVwcyA9IG91dHB1dEVsZW1lbnQuc3RlcHM7CgogIGNvbnN0IG5leHQgPSBzdGVwcy5uZXh0KG91dHB1dEVsZW1lbnQubGFzdFByb21pc2VWYWx1ZSk7CiAgcmV0dXJuIFByb21pc2UucmVzb2x2ZShuZXh0LnZhbHVlLnByb21pc2UpLnRoZW4oKHZhbHVlKSA9PiB7CiAgICAvLyBDYWNoZSB0aGUgbGFzdCBwcm9taXNlIHZhbHVlIHRvIG1ha2UgaXQgYXZhaWxhYmxlIHRvIHRoZSBuZXh0CiAgICAvLyBzdGVwIG9mIHRoZSBnZW5lcmF0b3IuCiAgICBvdXRwdXRFbGVtZW50Lmxhc3RQcm9taXNlVmFsdWUgPSB2YWx1ZTsKICAgIHJldHVybiBuZXh0LnZhbHVlLnJlc3BvbnNlOwogIH0pOwp9CgovKioKICogR2VuZXJhdG9yIGZ1bmN0aW9uIHdoaWNoIGlzIGNhbGxlZCBiZXR3ZWVuIGVhY2ggYXN5bmMgc3RlcCBvZiB0aGUgdXBsb2FkCiAqIHByb2Nlc3MuCiAqIEBwYXJhbSB7c3RyaW5nfSBpbnB1dElkIEVsZW1lbnQgSUQgb2YgdGhlIGlucHV0IGZpbGUgcGlja2VyIGVsZW1lbnQuCiAqIEBwYXJhbSB7c3RyaW5nfSBvdXRwdXRJZCBFbGVtZW50IElEIG9mIHRoZSBvdXRwdXQgZGlzcGxheS4KICogQHJldHVybiB7IUl0ZXJhYmxlPCFPYmplY3Q+fSBJdGVyYWJsZSBvZiBuZXh0IHN0ZXBzLgogKi8KZnVuY3Rpb24qIHVwbG9hZEZpbGVzU3RlcChpbnB1dElkLCBvdXRwdXRJZCkgewogIGNvbnN0IGlucHV0RWxlbWVudCA9IGRvY3VtZW50LmdldEVsZW1lbnRCeUlkKGlucHV0SWQpOwogIGlucHV0RWxlbWVudC5kaXNhYmxlZCA9IGZhbHNlOwoKICBjb25zdCBvdXRwdXRFbGVtZW50ID0gZG9jdW1lbnQuZ2V0RWxlbWVudEJ5SWQob3V0cHV0SWQpOwogIG91dHB1dEVsZW1lbnQuaW5uZXJIVE1MID0gJyc7CgogIGNvbnN0IHBpY2tlZFByb21pc2UgPSBuZXcgUHJvbWlzZSgocmVzb2x2ZSkgPT4gewogICAgaW5wdXRFbGVtZW50LmFkZEV2ZW50TGlzdGVuZXIoJ2NoYW5nZScsIChlKSA9PiB7CiAgICAgIHJlc29sdmUoZS50YXJnZXQuZmlsZXMpOwogICAgfSk7CiAgfSk7CgogIGNvbnN0IGNhbmNlbCA9IGRvY3VtZW50LmNyZWF0ZUVsZW1lbnQoJ2J1dHRvbicpOwogIGlucHV0RWxlbWVudC5wYXJlbnRFbGVtZW50LmFwcGVuZENoaWxkKGNhbmNlbCk7CiAgY2FuY2VsLnRleHRDb250ZW50ID0gJ0NhbmNlbCB1cGxvYWQnOwogIGNvbnN0IGNhbmNlbFByb21pc2UgPSBuZXcgUHJvbWlzZSgocmVzb2x2ZSkgPT4gewogICAgY2FuY2VsLm9uY2xpY2sgPSAoKSA9PiB7CiAgICAgIHJlc29sdmUobnVsbCk7CiAgICB9OwogIH0pOwoKICAvLyBXYWl0IGZvciB0aGUgdXNlciB0byBwaWNrIHRoZSBmaWxlcy4KICBjb25zdCBmaWxlcyA9IHlpZWxkIHsKICAgIHByb21pc2U6IFByb21pc2UucmFjZShbcGlja2VkUHJvbWlzZSwgY2FuY2VsUHJvbWlzZV0pLAogICAgcmVzcG9uc2U6IHsKICAgICAgYWN0aW9uOiAnc3RhcnRpbmcnLAogICAgfQogIH07CgogIGNhbmNlbC5yZW1vdmUoKTsKCiAgLy8gRGlzYWJsZSB0aGUgaW5wdXQgZWxlbWVudCBzaW5jZSBmdXJ0aGVyIHBpY2tzIGFyZSBub3QgYWxsb3dlZC4KICBpbnB1dEVsZW1lbnQuZGlzYWJsZWQgPSB0cnVlOwoKICBpZiAoIWZpbGVzKSB7CiAgICByZXR1cm4gewogICAgICByZXNwb25zZTogewogICAgICAgIGFjdGlvbjogJ2NvbXBsZXRlJywKICAgICAgfQogICAgfTsKICB9CgogIGZvciAoY29uc3QgZmlsZSBvZiBmaWxlcykgewogICAgY29uc3QgbGkgPSBkb2N1bWVudC5jcmVhdGVFbGVtZW50KCdsaScpOwogICAgbGkuYXBwZW5kKHNwYW4oZmlsZS5uYW1lLCB7Zm9udFdlaWdodDogJ2JvbGQnfSkpOwogICAgbGkuYXBwZW5kKHNwYW4oCiAgICAgICAgYCgke2ZpbGUudHlwZSB8fCAnbi9hJ30pIC0gJHtmaWxlLnNpemV9IGJ5dGVzLCBgICsKICAgICAgICBgbGFzdCBtb2RpZmllZDogJHsKICAgICAgICAgICAgZmlsZS5sYXN0TW9kaWZpZWREYXRlID8gZmlsZS5sYXN0TW9kaWZpZWREYXRlLnRvTG9jYWxlRGF0ZVN0cmluZygpIDoKICAgICAgICAgICAgICAgICAgICAgICAgICAgICAgICAgICAgJ24vYSd9IC0gYCkpOwogICAgY29uc3QgcGVyY2VudCA9IHNwYW4oJzAlIGRvbmUnKTsKICAgIGxpLmFwcGVuZENoaWxkKHBlcmNlbnQpOwoKICAgIG91dHB1dEVsZW1lbnQuYXBwZW5kQ2hpbGQobGkpOwoKICAgIGNvbnN0IGZpbGVEYXRhUHJvbWlzZSA9IG5ldyBQcm9taXNlKChyZXNvbHZlKSA9PiB7CiAgICAgIGNvbnN0IHJlYWRlciA9IG5ldyBGaWxlUmVhZGVyKCk7CiAgICAgIHJlYWRlci5vbmxvYWQgPSAoZSkgPT4gewogICAgICAgIHJlc29sdmUoZS50YXJnZXQucmVzdWx0KTsKICAgICAgfTsKICAgICAgcmVhZGVyLnJlYWRBc0FycmF5QnVmZmVyKGZpbGUpOwogICAgfSk7CiAgICAvLyBXYWl0IGZvciB0aGUgZGF0YSB0byBiZSByZWFkeS4KICAgIGxldCBmaWxlRGF0YSA9IHlpZWxkIHsKICAgICAgcHJvbWlzZTogZmlsZURhdGFQcm9taXNlLAogICAgICByZXNwb25zZTogewogICAgICAgIGFjdGlvbjogJ2NvbnRpbnVlJywKICAgICAgfQogICAgfTsKCiAgICAvLyBVc2UgYSBjaHVua2VkIHNlbmRpbmcgdG8gYXZvaWQgbWVzc2FnZSBzaXplIGxpbWl0cy4gU2VlIGIvNjIxMTU2NjAuCiAgICBsZXQgcG9zaXRpb24gPSAwOwogICAgd2hpbGUgKHBvc2l0aW9uIDwgZmlsZURhdGEuYnl0ZUxlbmd0aCkgewogICAgICBjb25zdCBsZW5ndGggPSBNYXRoLm1pbihmaWxlRGF0YS5ieXRlTGVuZ3RoIC0gcG9zaXRpb24sIE1BWF9QQVlMT0FEX1NJWkUpOwogICAgICBjb25zdCBjaHVuayA9IG5ldyBVaW50OEFycmF5KGZpbGVEYXRhLCBwb3NpdGlvbiwgbGVuZ3RoKTsKICAgICAgcG9zaXRpb24gKz0gbGVuZ3RoOwoKICAgICAgY29uc3QgYmFzZTY0ID0gYnRvYShTdHJpbmcuZnJvbUNoYXJDb2RlLmFwcGx5KG51bGwsIGNodW5rKSk7CiAgICAgIHlpZWxkIHsKICAgICAgICByZXNwb25zZTogewogICAgICAgICAgYWN0aW9uOiAnYXBwZW5kJywKICAgICAgICAgIGZpbGU6IGZpbGUubmFtZSwKICAgICAgICAgIGRhdGE6IGJhc2U2NCwKICAgICAgICB9LAogICAgICB9OwogICAgICBwZXJjZW50LnRleHRDb250ZW50ID0KICAgICAgICAgIGAke01hdGgucm91bmQoKHBvc2l0aW9uIC8gZmlsZURhdGEuYnl0ZUxlbmd0aCkgKiAxMDApfSUgZG9uZWA7CiAgICB9CiAgfQoKICAvLyBBbGwgZG9uZS4KICB5aWVsZCB7CiAgICByZXNwb25zZTogewogICAgICBhY3Rpb246ICdjb21wbGV0ZScsCiAgICB9CiAgfTsKfQoKc2NvcGUuZ29vZ2xlID0gc2NvcGUuZ29vZ2xlIHx8IHt9OwpzY29wZS5nb29nbGUuY29sYWIgPSBzY29wZS5nb29nbGUuY29sYWIgfHwge307CnNjb3BlLmdvb2dsZS5jb2xhYi5fZmlsZXMgPSB7CiAgX3VwbG9hZEZpbGVzLAogIF91cGxvYWRGaWxlc0NvbnRpbnVlLAp9Owp9KShzZWxmKTsK",
              "ok": true,
              "headers": [
                [
                  "content-type",
                  "application/javascript"
                ]
              ],
              "status": 200,
              "status_text": ""
            }
          },
          "base_uri": "https://localhost:8080/",
          "height": 73
        },
        "outputId": "436eb134-9d0c-49df-8be1-a1b5ee235563"
      },
      "source": [
        "from google.colab import files\n",
        "# Upload local file\n",
        "uploaded = files.upload() "
      ],
      "execution_count": 1,
      "outputs": [
        {
          "output_type": "display_data",
          "data": {
            "text/html": [
              "\n",
              "     <input type=\"file\" id=\"files-0d69ce3d-2a99-48fa-9159-fec212139c83\" name=\"files[]\" multiple disabled\n",
              "        style=\"border:none\" />\n",
              "     <output id=\"result-0d69ce3d-2a99-48fa-9159-fec212139c83\">\n",
              "      Upload widget is only available when the cell has been executed in the\n",
              "      current browser session. Please rerun this cell to enable.\n",
              "      </output>\n",
              "      <script src=\"/nbextensions/google.colab/files.js\"></script> "
            ],
            "text/plain": [
              "<IPython.core.display.HTML object>"
            ]
          },
          "metadata": {
            "tags": []
          }
        },
        {
          "output_type": "stream",
          "text": [
            "Saving TelcoChurn.csv to TelcoChurn.csv\n"
          ],
          "name": "stdout"
        }
      ]
    },
    {
      "cell_type": "code",
      "metadata": {
        "id": "0EIaTXeGsH4c"
      },
      "source": [
        "import io\n",
        "import pandas as pd\n",
        "import numpy as np\n",
        "import matplotlib.pyplot as plt\n",
        "import seaborn as sns\n",
        "import scipy.stats as st\n"
      ],
      "execution_count": 2,
      "outputs": []
    },
    {
      "cell_type": "code",
      "metadata": {
        "id": "uK-K2vAVsbuz",
        "colab": {
          "base_uri": "https://localhost:8080/",
          "height": 204
        },
        "outputId": "9c7e6b5c-451e-4d6c-cf80-0397de02ed1d"
      },
      "source": [
        "df = pd.read_csv(io.BytesIO(uploaded['TelcoChurn.csv']))\n",
        "df.head()\n"
      ],
      "execution_count": 3,
      "outputs": [
        {
          "output_type": "execute_result",
          "data": {
            "text/html": [
              "<div>\n",
              "<style scoped>\n",
              "    .dataframe tbody tr th:only-of-type {\n",
              "        vertical-align: middle;\n",
              "    }\n",
              "\n",
              "    .dataframe tbody tr th {\n",
              "        vertical-align: top;\n",
              "    }\n",
              "\n",
              "    .dataframe thead th {\n",
              "        text-align: right;\n",
              "    }\n",
              "</style>\n",
              "<table border=\"1\" class=\"dataframe\">\n",
              "  <thead>\n",
              "    <tr style=\"text-align: right;\">\n",
              "      <th></th>\n",
              "      <th>State</th>\n",
              "      <th>Account length</th>\n",
              "      <th>Area code</th>\n",
              "      <th>International plan</th>\n",
              "      <th>Voice mail plan</th>\n",
              "      <th>Number vmail messages</th>\n",
              "      <th>Total day minutes</th>\n",
              "      <th>Total day calls</th>\n",
              "      <th>Total day charge</th>\n",
              "      <th>Total eve minutes</th>\n",
              "      <th>Total eve calls</th>\n",
              "      <th>Total eve charge</th>\n",
              "      <th>Total night minutes</th>\n",
              "      <th>Total night calls</th>\n",
              "      <th>Total night charge</th>\n",
              "      <th>Total intl minutes</th>\n",
              "      <th>Total intl calls</th>\n",
              "      <th>Total intl charge</th>\n",
              "      <th>Customer service calls</th>\n",
              "      <th>Churn</th>\n",
              "    </tr>\n",
              "  </thead>\n",
              "  <tbody>\n",
              "    <tr>\n",
              "      <th>0</th>\n",
              "      <td>LA</td>\n",
              "      <td>117</td>\n",
              "      <td>408</td>\n",
              "      <td>No</td>\n",
              "      <td>No</td>\n",
              "      <td>0</td>\n",
              "      <td>184.5</td>\n",
              "      <td>97</td>\n",
              "      <td>31.37</td>\n",
              "      <td>351.6</td>\n",
              "      <td>80</td>\n",
              "      <td>29.89</td>\n",
              "      <td>215.8</td>\n",
              "      <td>90</td>\n",
              "      <td>9.71</td>\n",
              "      <td>8.7</td>\n",
              "      <td>4</td>\n",
              "      <td>2.35</td>\n",
              "      <td>1</td>\n",
              "      <td>False</td>\n",
              "    </tr>\n",
              "    <tr>\n",
              "      <th>1</th>\n",
              "      <td>IN</td>\n",
              "      <td>65</td>\n",
              "      <td>415</td>\n",
              "      <td>No</td>\n",
              "      <td>No</td>\n",
              "      <td>0</td>\n",
              "      <td>129.1</td>\n",
              "      <td>137</td>\n",
              "      <td>21.95</td>\n",
              "      <td>228.5</td>\n",
              "      <td>83</td>\n",
              "      <td>19.42</td>\n",
              "      <td>208.8</td>\n",
              "      <td>111</td>\n",
              "      <td>9.40</td>\n",
              "      <td>12.7</td>\n",
              "      <td>6</td>\n",
              "      <td>3.43</td>\n",
              "      <td>4</td>\n",
              "      <td>True</td>\n",
              "    </tr>\n",
              "    <tr>\n",
              "      <th>2</th>\n",
              "      <td>NY</td>\n",
              "      <td>161</td>\n",
              "      <td>415</td>\n",
              "      <td>No</td>\n",
              "      <td>No</td>\n",
              "      <td>0</td>\n",
              "      <td>332.9</td>\n",
              "      <td>67</td>\n",
              "      <td>56.59</td>\n",
              "      <td>317.8</td>\n",
              "      <td>97</td>\n",
              "      <td>27.01</td>\n",
              "      <td>160.6</td>\n",
              "      <td>128</td>\n",
              "      <td>7.23</td>\n",
              "      <td>5.4</td>\n",
              "      <td>9</td>\n",
              "      <td>1.46</td>\n",
              "      <td>4</td>\n",
              "      <td>True</td>\n",
              "    </tr>\n",
              "    <tr>\n",
              "      <th>3</th>\n",
              "      <td>SC</td>\n",
              "      <td>111</td>\n",
              "      <td>415</td>\n",
              "      <td>No</td>\n",
              "      <td>No</td>\n",
              "      <td>0</td>\n",
              "      <td>110.4</td>\n",
              "      <td>103</td>\n",
              "      <td>18.77</td>\n",
              "      <td>137.3</td>\n",
              "      <td>102</td>\n",
              "      <td>11.67</td>\n",
              "      <td>189.6</td>\n",
              "      <td>105</td>\n",
              "      <td>8.53</td>\n",
              "      <td>7.7</td>\n",
              "      <td>6</td>\n",
              "      <td>2.08</td>\n",
              "      <td>2</td>\n",
              "      <td>False</td>\n",
              "    </tr>\n",
              "    <tr>\n",
              "      <th>4</th>\n",
              "      <td>HI</td>\n",
              "      <td>49</td>\n",
              "      <td>510</td>\n",
              "      <td>No</td>\n",
              "      <td>No</td>\n",
              "      <td>0</td>\n",
              "      <td>119.3</td>\n",
              "      <td>117</td>\n",
              "      <td>20.28</td>\n",
              "      <td>215.1</td>\n",
              "      <td>109</td>\n",
              "      <td>18.28</td>\n",
              "      <td>178.7</td>\n",
              "      <td>90</td>\n",
              "      <td>8.04</td>\n",
              "      <td>11.1</td>\n",
              "      <td>1</td>\n",
              "      <td>3.00</td>\n",
              "      <td>1</td>\n",
              "      <td>False</td>\n",
              "    </tr>\n",
              "  </tbody>\n",
              "</table>\n",
              "</div>"
            ],
            "text/plain": [
              "  State  Account length  ...  Customer service calls  Churn\n",
              "0    LA             117  ...                       1  False\n",
              "1    IN              65  ...                       4   True\n",
              "2    NY             161  ...                       4   True\n",
              "3    SC             111  ...                       2  False\n",
              "4    HI              49  ...                       1  False\n",
              "\n",
              "[5 rows x 20 columns]"
            ]
          },
          "metadata": {
            "tags": []
          },
          "execution_count": 3
        }
      ]
    },
    {
      "cell_type": "code",
      "metadata": {
        "id": "IP-46mpZtSzw",
        "colab": {
          "base_uri": "https://localhost:8080/",
          "height": 238
        },
        "outputId": "5ab90d56-d624-436c-a31c-0304d6f7d026"
      },
      "source": [
        "#First 5 rows\n",
        "df[:5]"
      ],
      "execution_count": null,
      "outputs": [
        {
          "output_type": "execute_result",
          "data": {
            "text/html": [
              "<div>\n",
              "<style scoped>\n",
              "    .dataframe tbody tr th:only-of-type {\n",
              "        vertical-align: middle;\n",
              "    }\n",
              "\n",
              "    .dataframe tbody tr th {\n",
              "        vertical-align: top;\n",
              "    }\n",
              "\n",
              "    .dataframe thead th {\n",
              "        text-align: right;\n",
              "    }\n",
              "</style>\n",
              "<table border=\"1\" class=\"dataframe\">\n",
              "  <thead>\n",
              "    <tr style=\"text-align: right;\">\n",
              "      <th></th>\n",
              "      <th>State</th>\n",
              "      <th>Account length</th>\n",
              "      <th>Area code</th>\n",
              "      <th>International plan</th>\n",
              "      <th>Voice mail plan</th>\n",
              "      <th>Number vmail messages</th>\n",
              "      <th>Total day minutes</th>\n",
              "      <th>Total day calls</th>\n",
              "      <th>Total day charge</th>\n",
              "      <th>Total eve minutes</th>\n",
              "      <th>Total eve calls</th>\n",
              "      <th>Total eve charge</th>\n",
              "      <th>Total night minutes</th>\n",
              "      <th>Total night calls</th>\n",
              "      <th>Total night charge</th>\n",
              "      <th>Total intl minutes</th>\n",
              "      <th>Total intl calls</th>\n",
              "      <th>Total intl charge</th>\n",
              "      <th>Customer service calls</th>\n",
              "      <th>Churn</th>\n",
              "    </tr>\n",
              "  </thead>\n",
              "  <tbody>\n",
              "    <tr>\n",
              "      <th>0</th>\n",
              "      <td>LA</td>\n",
              "      <td>117</td>\n",
              "      <td>408</td>\n",
              "      <td>No</td>\n",
              "      <td>No</td>\n",
              "      <td>0</td>\n",
              "      <td>184.5</td>\n",
              "      <td>97</td>\n",
              "      <td>31.37</td>\n",
              "      <td>351.6</td>\n",
              "      <td>80</td>\n",
              "      <td>29.89</td>\n",
              "      <td>215.8</td>\n",
              "      <td>90</td>\n",
              "      <td>9.71</td>\n",
              "      <td>8.7</td>\n",
              "      <td>4</td>\n",
              "      <td>2.35</td>\n",
              "      <td>1</td>\n",
              "      <td>False</td>\n",
              "    </tr>\n",
              "    <tr>\n",
              "      <th>1</th>\n",
              "      <td>IN</td>\n",
              "      <td>65</td>\n",
              "      <td>415</td>\n",
              "      <td>No</td>\n",
              "      <td>No</td>\n",
              "      <td>0</td>\n",
              "      <td>129.1</td>\n",
              "      <td>137</td>\n",
              "      <td>21.95</td>\n",
              "      <td>228.5</td>\n",
              "      <td>83</td>\n",
              "      <td>19.42</td>\n",
              "      <td>208.8</td>\n",
              "      <td>111</td>\n",
              "      <td>9.40</td>\n",
              "      <td>12.7</td>\n",
              "      <td>6</td>\n",
              "      <td>3.43</td>\n",
              "      <td>4</td>\n",
              "      <td>True</td>\n",
              "    </tr>\n",
              "    <tr>\n",
              "      <th>2</th>\n",
              "      <td>NY</td>\n",
              "      <td>161</td>\n",
              "      <td>415</td>\n",
              "      <td>No</td>\n",
              "      <td>No</td>\n",
              "      <td>0</td>\n",
              "      <td>332.9</td>\n",
              "      <td>67</td>\n",
              "      <td>56.59</td>\n",
              "      <td>317.8</td>\n",
              "      <td>97</td>\n",
              "      <td>27.01</td>\n",
              "      <td>160.6</td>\n",
              "      <td>128</td>\n",
              "      <td>7.23</td>\n",
              "      <td>5.4</td>\n",
              "      <td>9</td>\n",
              "      <td>1.46</td>\n",
              "      <td>4</td>\n",
              "      <td>True</td>\n",
              "    </tr>\n",
              "    <tr>\n",
              "      <th>3</th>\n",
              "      <td>SC</td>\n",
              "      <td>111</td>\n",
              "      <td>415</td>\n",
              "      <td>No</td>\n",
              "      <td>No</td>\n",
              "      <td>0</td>\n",
              "      <td>110.4</td>\n",
              "      <td>103</td>\n",
              "      <td>18.77</td>\n",
              "      <td>137.3</td>\n",
              "      <td>102</td>\n",
              "      <td>11.67</td>\n",
              "      <td>189.6</td>\n",
              "      <td>105</td>\n",
              "      <td>8.53</td>\n",
              "      <td>7.7</td>\n",
              "      <td>6</td>\n",
              "      <td>2.08</td>\n",
              "      <td>2</td>\n",
              "      <td>False</td>\n",
              "    </tr>\n",
              "    <tr>\n",
              "      <th>4</th>\n",
              "      <td>HI</td>\n",
              "      <td>49</td>\n",
              "      <td>510</td>\n",
              "      <td>No</td>\n",
              "      <td>No</td>\n",
              "      <td>0</td>\n",
              "      <td>119.3</td>\n",
              "      <td>117</td>\n",
              "      <td>20.28</td>\n",
              "      <td>215.1</td>\n",
              "      <td>109</td>\n",
              "      <td>18.28</td>\n",
              "      <td>178.7</td>\n",
              "      <td>90</td>\n",
              "      <td>8.04</td>\n",
              "      <td>11.1</td>\n",
              "      <td>1</td>\n",
              "      <td>3.00</td>\n",
              "      <td>1</td>\n",
              "      <td>False</td>\n",
              "    </tr>\n",
              "  </tbody>\n",
              "</table>\n",
              "</div>"
            ],
            "text/plain": [
              "  State  Account length  ...  Customer service calls  Churn\n",
              "0    LA             117  ...                       1  False\n",
              "1    IN              65  ...                       4   True\n",
              "2    NY             161  ...                       4   True\n",
              "3    SC             111  ...                       2  False\n",
              "4    HI              49  ...                       1  False\n",
              "\n",
              "[5 rows x 20 columns]"
            ]
          },
          "metadata": {
            "tags": []
          },
          "execution_count": 10
        }
      ]
    },
    {
      "cell_type": "code",
      "metadata": {
        "id": "W-YM2asmtCL3",
        "colab": {
          "base_uri": "https://localhost:8080/",
          "height": 34
        },
        "outputId": "cc913813-06e2-45ba-e2d9-cdc7faddd433"
      },
      "source": [
        "#No. of rows and columns in DF\n",
        "df.shape"
      ],
      "execution_count": null,
      "outputs": [
        {
          "output_type": "execute_result",
          "data": {
            "text/plain": [
              "(667, 20)"
            ]
          },
          "metadata": {
            "tags": []
          },
          "execution_count": 6
        }
      ]
    },
    {
      "cell_type": "code",
      "metadata": {
        "id": "6FnQnSEttDVu",
        "colab": {
          "base_uri": "https://localhost:8080/",
          "height": 153
        },
        "outputId": "7663f448-2bda-446d-c371-f760b40d1dc7"
      },
      "source": [
        "#Column names\n",
        "df.columns"
      ],
      "execution_count": null,
      "outputs": [
        {
          "output_type": "execute_result",
          "data": {
            "text/plain": [
              "Index(['State', 'Account length', 'Area code', 'International plan',\n",
              "       'Voice mail plan', 'Number vmail messages', 'Total day minutes',\n",
              "       'Total day calls', 'Total day charge', 'Total eve minutes',\n",
              "       'Total eve calls', 'Total eve charge', 'Total night minutes',\n",
              "       'Total night calls', 'Total night charge', 'Total intl minutes',\n",
              "       'Total intl calls', 'Total intl charge', 'Customer service calls',\n",
              "       'Churn'],\n",
              "      dtype='object')"
            ]
          },
          "metadata": {
            "tags": []
          },
          "execution_count": 7
        }
      ]
    },
    {
      "cell_type": "code",
      "metadata": {
        "id": "ZDAOYU-MtbV1",
        "colab": {
          "base_uri": "https://localhost:8080/",
          "height": 374
        },
        "outputId": "66c50206-6988-4ecb-d97b-e664f46af8ba"
      },
      "source": [
        "#Column details\n",
        "df.dtypes"
      ],
      "execution_count": null,
      "outputs": [
        {
          "output_type": "execute_result",
          "data": {
            "text/plain": [
              "State                      object\n",
              "Account length              int64\n",
              "Area code                   int64\n",
              "International plan         object\n",
              "Voice mail plan            object\n",
              "Number vmail messages       int64\n",
              "Total day minutes         float64\n",
              "Total day calls             int64\n",
              "Total day charge          float64\n",
              "Total eve minutes         float64\n",
              "Total eve calls             int64\n",
              "Total eve charge          float64\n",
              "Total night minutes       float64\n",
              "Total night calls           int64\n",
              "Total night charge        float64\n",
              "Total intl minutes        float64\n",
              "Total intl calls            int64\n",
              "Total intl charge         float64\n",
              "Customer service calls      int64\n",
              "Churn                        bool\n",
              "dtype: object"
            ]
          },
          "metadata": {
            "tags": []
          },
          "execution_count": 11
        }
      ]
    },
    {
      "cell_type": "code",
      "metadata": {
        "id": "aZub1M7rTXIR",
        "colab": {
          "base_uri": "https://localhost:8080/",
          "height": 136
        },
        "outputId": "f5cf730c-c7f9-41fc-c1c4-a79ed9be18d7"
      },
      "source": [
        "#Numeric columns\n",
        "num_columns = df.select_dtypes(include=[np.number])\n",
        "num_columns.columns"
      ],
      "execution_count": null,
      "outputs": [
        {
          "output_type": "execute_result",
          "data": {
            "text/plain": [
              "Index(['Account length', 'Area code', 'Number vmail messages',\n",
              "       'Total day minutes', 'Total day calls', 'Total day charge',\n",
              "       'Total eve minutes', 'Total eve calls', 'Total eve charge',\n",
              "       'Total night minutes', 'Total night calls', 'Total night charge',\n",
              "       'Total intl minutes', 'Total intl calls', 'Total intl charge',\n",
              "       'Customer service calls'],\n",
              "      dtype='object')"
            ]
          },
          "metadata": {
            "tags": []
          },
          "execution_count": 4
        }
      ]
    },
    {
      "cell_type": "code",
      "metadata": {
        "id": "k5qCMx0otgLm",
        "colab": {
          "base_uri": "https://localhost:8080/",
          "height": 331
        },
        "outputId": "cf866cff-77aa-4c07-d8c3-6417876a7af9"
      },
      "source": [
        "#Quick summary of the data set\n",
        "df.describe()\n",
        "\n"
      ],
      "execution_count": null,
      "outputs": [
        {
          "output_type": "execute_result",
          "data": {
            "text/html": [
              "<div>\n",
              "<style scoped>\n",
              "    .dataframe tbody tr th:only-of-type {\n",
              "        vertical-align: middle;\n",
              "    }\n",
              "\n",
              "    .dataframe tbody tr th {\n",
              "        vertical-align: top;\n",
              "    }\n",
              "\n",
              "    .dataframe thead th {\n",
              "        text-align: right;\n",
              "    }\n",
              "</style>\n",
              "<table border=\"1\" class=\"dataframe\">\n",
              "  <thead>\n",
              "    <tr style=\"text-align: right;\">\n",
              "      <th></th>\n",
              "      <th>Account length</th>\n",
              "      <th>Area code</th>\n",
              "      <th>Number vmail messages</th>\n",
              "      <th>Total day minutes</th>\n",
              "      <th>Total day calls</th>\n",
              "      <th>Total day charge</th>\n",
              "      <th>Total eve minutes</th>\n",
              "      <th>Total eve calls</th>\n",
              "      <th>Total eve charge</th>\n",
              "      <th>Total night minutes</th>\n",
              "      <th>Total night calls</th>\n",
              "      <th>Total night charge</th>\n",
              "      <th>Total intl minutes</th>\n",
              "      <th>Total intl calls</th>\n",
              "      <th>Total intl charge</th>\n",
              "      <th>Customer service calls</th>\n",
              "    </tr>\n",
              "  </thead>\n",
              "  <tbody>\n",
              "    <tr>\n",
              "      <th>count</th>\n",
              "      <td>667.000000</td>\n",
              "      <td>667.000000</td>\n",
              "      <td>667.000000</td>\n",
              "      <td>667.000000</td>\n",
              "      <td>667.000000</td>\n",
              "      <td>667.000000</td>\n",
              "      <td>667.000000</td>\n",
              "      <td>667.000000</td>\n",
              "      <td>667.000000</td>\n",
              "      <td>667.000000</td>\n",
              "      <td>667.000000</td>\n",
              "      <td>667.000000</td>\n",
              "      <td>667.000000</td>\n",
              "      <td>667.000000</td>\n",
              "      <td>667.000000</td>\n",
              "      <td>667.000000</td>\n",
              "    </tr>\n",
              "    <tr>\n",
              "      <th>mean</th>\n",
              "      <td>102.841079</td>\n",
              "      <td>436.157421</td>\n",
              "      <td>8.407796</td>\n",
              "      <td>180.948126</td>\n",
              "      <td>100.937031</td>\n",
              "      <td>30.761769</td>\n",
              "      <td>203.355322</td>\n",
              "      <td>100.476762</td>\n",
              "      <td>17.285262</td>\n",
              "      <td>199.685307</td>\n",
              "      <td>100.113943</td>\n",
              "      <td>8.985907</td>\n",
              "      <td>10.238381</td>\n",
              "      <td>4.527736</td>\n",
              "      <td>2.764948</td>\n",
              "      <td>1.563718</td>\n",
              "    </tr>\n",
              "    <tr>\n",
              "      <th>std</th>\n",
              "      <td>40.819480</td>\n",
              "      <td>41.783305</td>\n",
              "      <td>13.994480</td>\n",
              "      <td>55.508628</td>\n",
              "      <td>20.396790</td>\n",
              "      <td>9.436463</td>\n",
              "      <td>49.719268</td>\n",
              "      <td>18.948262</td>\n",
              "      <td>4.226160</td>\n",
              "      <td>49.759931</td>\n",
              "      <td>20.172505</td>\n",
              "      <td>2.239429</td>\n",
              "      <td>2.807850</td>\n",
              "      <td>2.482442</td>\n",
              "      <td>0.758167</td>\n",
              "      <td>1.333357</td>\n",
              "    </tr>\n",
              "    <tr>\n",
              "      <th>min</th>\n",
              "      <td>1.000000</td>\n",
              "      <td>408.000000</td>\n",
              "      <td>0.000000</td>\n",
              "      <td>25.900000</td>\n",
              "      <td>30.000000</td>\n",
              "      <td>4.400000</td>\n",
              "      <td>48.100000</td>\n",
              "      <td>37.000000</td>\n",
              "      <td>4.090000</td>\n",
              "      <td>23.200000</td>\n",
              "      <td>42.000000</td>\n",
              "      <td>1.040000</td>\n",
              "      <td>0.000000</td>\n",
              "      <td>0.000000</td>\n",
              "      <td>0.000000</td>\n",
              "      <td>0.000000</td>\n",
              "    </tr>\n",
              "    <tr>\n",
              "      <th>25%</th>\n",
              "      <td>76.000000</td>\n",
              "      <td>408.000000</td>\n",
              "      <td>0.000000</td>\n",
              "      <td>146.250000</td>\n",
              "      <td>87.500000</td>\n",
              "      <td>24.860000</td>\n",
              "      <td>171.050000</td>\n",
              "      <td>88.000000</td>\n",
              "      <td>14.540000</td>\n",
              "      <td>167.950000</td>\n",
              "      <td>86.000000</td>\n",
              "      <td>7.560000</td>\n",
              "      <td>8.600000</td>\n",
              "      <td>3.000000</td>\n",
              "      <td>2.320000</td>\n",
              "      <td>1.000000</td>\n",
              "    </tr>\n",
              "    <tr>\n",
              "      <th>50%</th>\n",
              "      <td>102.000000</td>\n",
              "      <td>415.000000</td>\n",
              "      <td>0.000000</td>\n",
              "      <td>178.300000</td>\n",
              "      <td>101.000000</td>\n",
              "      <td>30.310000</td>\n",
              "      <td>203.700000</td>\n",
              "      <td>101.000000</td>\n",
              "      <td>17.310000</td>\n",
              "      <td>201.600000</td>\n",
              "      <td>100.000000</td>\n",
              "      <td>9.070000</td>\n",
              "      <td>10.500000</td>\n",
              "      <td>4.000000</td>\n",
              "      <td>2.840000</td>\n",
              "      <td>1.000000</td>\n",
              "    </tr>\n",
              "    <tr>\n",
              "      <th>75%</th>\n",
              "      <td>128.000000</td>\n",
              "      <td>415.000000</td>\n",
              "      <td>20.000000</td>\n",
              "      <td>220.700000</td>\n",
              "      <td>115.000000</td>\n",
              "      <td>37.520000</td>\n",
              "      <td>236.450000</td>\n",
              "      <td>113.000000</td>\n",
              "      <td>20.095000</td>\n",
              "      <td>231.500000</td>\n",
              "      <td>113.500000</td>\n",
              "      <td>10.420000</td>\n",
              "      <td>12.050000</td>\n",
              "      <td>6.000000</td>\n",
              "      <td>3.255000</td>\n",
              "      <td>2.000000</td>\n",
              "    </tr>\n",
              "    <tr>\n",
              "      <th>max</th>\n",
              "      <td>232.000000</td>\n",
              "      <td>510.000000</td>\n",
              "      <td>51.000000</td>\n",
              "      <td>334.300000</td>\n",
              "      <td>165.000000</td>\n",
              "      <td>56.830000</td>\n",
              "      <td>361.800000</td>\n",
              "      <td>168.000000</td>\n",
              "      <td>30.750000</td>\n",
              "      <td>367.700000</td>\n",
              "      <td>175.000000</td>\n",
              "      <td>16.550000</td>\n",
              "      <td>18.300000</td>\n",
              "      <td>18.000000</td>\n",
              "      <td>4.940000</td>\n",
              "      <td>8.000000</td>\n",
              "    </tr>\n",
              "  </tbody>\n",
              "</table>\n",
              "</div>"
            ],
            "text/plain": [
              "       Account length   Area code  ...  Total intl charge  Customer service calls\n",
              "count      667.000000  667.000000  ...         667.000000              667.000000\n",
              "mean       102.841079  436.157421  ...           2.764948                1.563718\n",
              "std         40.819480   41.783305  ...           0.758167                1.333357\n",
              "min          1.000000  408.000000  ...           0.000000                0.000000\n",
              "25%         76.000000  408.000000  ...           2.320000                1.000000\n",
              "50%        102.000000  415.000000  ...           2.840000                1.000000\n",
              "75%        128.000000  415.000000  ...           3.255000                2.000000\n",
              "max        232.000000  510.000000  ...           4.940000                8.000000\n",
              "\n",
              "[8 rows x 16 columns]"
            ]
          },
          "metadata": {
            "tags": []
          },
          "execution_count": 13
        }
      ]
    },
    {
      "cell_type": "code",
      "metadata": {
        "id": "p9gvBsgbT7Oc",
        "colab": {
          "base_uri": "https://localhost:8080/",
          "height": 238
        },
        "outputId": "b8c1f5f9-9140-4b6e-9ad2-c7200ef3b302"
      },
      "source": [
        "num_columns.head()"
      ],
      "execution_count": null,
      "outputs": [
        {
          "output_type": "execute_result",
          "data": {
            "text/html": [
              "<div>\n",
              "<style scoped>\n",
              "    .dataframe tbody tr th:only-of-type {\n",
              "        vertical-align: middle;\n",
              "    }\n",
              "\n",
              "    .dataframe tbody tr th {\n",
              "        vertical-align: top;\n",
              "    }\n",
              "\n",
              "    .dataframe thead th {\n",
              "        text-align: right;\n",
              "    }\n",
              "</style>\n",
              "<table border=\"1\" class=\"dataframe\">\n",
              "  <thead>\n",
              "    <tr style=\"text-align: right;\">\n",
              "      <th></th>\n",
              "      <th>Account length</th>\n",
              "      <th>Area code</th>\n",
              "      <th>Number vmail messages</th>\n",
              "      <th>Total day minutes</th>\n",
              "      <th>Total day calls</th>\n",
              "      <th>Total day charge</th>\n",
              "      <th>Total eve minutes</th>\n",
              "      <th>Total eve calls</th>\n",
              "      <th>Total eve charge</th>\n",
              "      <th>Total night minutes</th>\n",
              "      <th>Total night calls</th>\n",
              "      <th>Total night charge</th>\n",
              "      <th>Total intl minutes</th>\n",
              "      <th>Total intl calls</th>\n",
              "      <th>Total intl charge</th>\n",
              "      <th>Customer service calls</th>\n",
              "    </tr>\n",
              "  </thead>\n",
              "  <tbody>\n",
              "    <tr>\n",
              "      <th>0</th>\n",
              "      <td>117</td>\n",
              "      <td>408</td>\n",
              "      <td>0</td>\n",
              "      <td>184.5</td>\n",
              "      <td>97</td>\n",
              "      <td>31.37</td>\n",
              "      <td>351.6</td>\n",
              "      <td>80</td>\n",
              "      <td>29.89</td>\n",
              "      <td>215.8</td>\n",
              "      <td>90</td>\n",
              "      <td>9.71</td>\n",
              "      <td>8.7</td>\n",
              "      <td>4</td>\n",
              "      <td>2.35</td>\n",
              "      <td>1</td>\n",
              "    </tr>\n",
              "    <tr>\n",
              "      <th>1</th>\n",
              "      <td>65</td>\n",
              "      <td>415</td>\n",
              "      <td>0</td>\n",
              "      <td>129.1</td>\n",
              "      <td>137</td>\n",
              "      <td>21.95</td>\n",
              "      <td>228.5</td>\n",
              "      <td>83</td>\n",
              "      <td>19.42</td>\n",
              "      <td>208.8</td>\n",
              "      <td>111</td>\n",
              "      <td>9.40</td>\n",
              "      <td>12.7</td>\n",
              "      <td>6</td>\n",
              "      <td>3.43</td>\n",
              "      <td>4</td>\n",
              "    </tr>\n",
              "    <tr>\n",
              "      <th>2</th>\n",
              "      <td>161</td>\n",
              "      <td>415</td>\n",
              "      <td>0</td>\n",
              "      <td>332.9</td>\n",
              "      <td>67</td>\n",
              "      <td>56.59</td>\n",
              "      <td>317.8</td>\n",
              "      <td>97</td>\n",
              "      <td>27.01</td>\n",
              "      <td>160.6</td>\n",
              "      <td>128</td>\n",
              "      <td>7.23</td>\n",
              "      <td>5.4</td>\n",
              "      <td>9</td>\n",
              "      <td>1.46</td>\n",
              "      <td>4</td>\n",
              "    </tr>\n",
              "    <tr>\n",
              "      <th>3</th>\n",
              "      <td>111</td>\n",
              "      <td>415</td>\n",
              "      <td>0</td>\n",
              "      <td>110.4</td>\n",
              "      <td>103</td>\n",
              "      <td>18.77</td>\n",
              "      <td>137.3</td>\n",
              "      <td>102</td>\n",
              "      <td>11.67</td>\n",
              "      <td>189.6</td>\n",
              "      <td>105</td>\n",
              "      <td>8.53</td>\n",
              "      <td>7.7</td>\n",
              "      <td>6</td>\n",
              "      <td>2.08</td>\n",
              "      <td>2</td>\n",
              "    </tr>\n",
              "    <tr>\n",
              "      <th>4</th>\n",
              "      <td>49</td>\n",
              "      <td>510</td>\n",
              "      <td>0</td>\n",
              "      <td>119.3</td>\n",
              "      <td>117</td>\n",
              "      <td>20.28</td>\n",
              "      <td>215.1</td>\n",
              "      <td>109</td>\n",
              "      <td>18.28</td>\n",
              "      <td>178.7</td>\n",
              "      <td>90</td>\n",
              "      <td>8.04</td>\n",
              "      <td>11.1</td>\n",
              "      <td>1</td>\n",
              "      <td>3.00</td>\n",
              "      <td>1</td>\n",
              "    </tr>\n",
              "  </tbody>\n",
              "</table>\n",
              "</div>"
            ],
            "text/plain": [
              "   Account length  Area code  ...  Total intl charge  Customer service calls\n",
              "0             117        408  ...               2.35                       1\n",
              "1              65        415  ...               3.43                       4\n",
              "2             161        415  ...               1.46                       4\n",
              "3             111        415  ...               2.08                       2\n",
              "4              49        510  ...               3.00                       1\n",
              "\n",
              "[5 rows x 16 columns]"
            ]
          },
          "metadata": {
            "tags": []
          },
          "execution_count": 6
        }
      ]
    },
    {
      "cell_type": "markdown",
      "metadata": {
        "id": "xHhTEGc5YWwg"
      },
      "source": [
        "#All columns have 667 values, no null values \n",
        "#Average account lenght is 102.8 days, between 76 and 128 days"
      ]
    },
    {
      "cell_type": "code",
      "metadata": {
        "id": "7D5shWImxEYR",
        "cellView": "code",
        "colab": {
          "base_uri": "https://localhost:8080/",
          "height": 374
        },
        "outputId": "d92a46aa-62cf-4042-d212-639fc5fb8e08"
      },
      "source": [
        "#@title Default title text\n",
        "#Distinct values in each column\n",
        "df.nunique()"
      ],
      "execution_count": null,
      "outputs": [
        {
          "output_type": "execute_result",
          "data": {
            "text/plain": [
              "State                      51\n",
              "Account length            179\n",
              "Area code                   3\n",
              "International plan          2\n",
              "Voice mail plan             2\n",
              "Number vmail messages      37\n",
              "Total day minutes         562\n",
              "Total day calls           100\n",
              "Total day charge          562\n",
              "Total eve minutes         557\n",
              "Total eve calls            94\n",
              "Total eve charge          528\n",
              "Total night minutes       568\n",
              "Total night calls          96\n",
              "Total night charge        453\n",
              "Total intl minutes        132\n",
              "Total intl calls           17\n",
              "Total intl charge         132\n",
              "Customer service calls      9\n",
              "Churn                       2\n",
              "dtype: int64"
            ]
          },
          "metadata": {
            "tags": []
          },
          "execution_count": 14
        }
      ]
    },
    {
      "cell_type": "code",
      "metadata": {
        "id": "vPdJv0fsetR4",
        "colab": {
          "base_uri": "https://localhost:8080/",
          "height": 34
        },
        "outputId": "ad8e0620-442c-47be-bf50-c367e14b9564"
      },
      "source": [
        "df['Area code'].nunique()"
      ],
      "execution_count": null,
      "outputs": [
        {
          "output_type": "execute_result",
          "data": {
            "text/plain": [
              "3"
            ]
          },
          "metadata": {
            "tags": []
          },
          "execution_count": 70
        }
      ]
    },
    {
      "cell_type": "code",
      "metadata": {
        "id": "gmhlrOoOWD6l",
        "colab": {
          "base_uri": "https://localhost:8080/",
          "height": 34
        },
        "outputId": "cfe68d73-6c36-49e3-ec5d-fcfde85dbc3f"
      },
      "source": [
        "df['Area code'].unique()\n",
        "df.Churn.unique()"
      ],
      "execution_count": null,
      "outputs": [
        {
          "output_type": "execute_result",
          "data": {
            "text/plain": [
              "array([False,  True])"
            ]
          },
          "metadata": {
            "tags": []
          },
          "execution_count": 9
        }
      ]
    },
    {
      "cell_type": "code",
      "metadata": {
        "id": "ditnoWvczOz3",
        "colab": {
          "base_uri": "https://localhost:8080/",
          "height": 68
        },
        "outputId": "2c409244-f34f-458a-f695-a9a0dfa5c90e"
      },
      "source": [
        "df['Churn'].value_counts()"
      ],
      "execution_count": null,
      "outputs": [
        {
          "output_type": "execute_result",
          "data": {
            "text/plain": [
              "False    572\n",
              "True      95\n",
              "Name: Churn, dtype: int64"
            ]
          },
          "metadata": {
            "tags": []
          },
          "execution_count": 15
        }
      ]
    },
    {
      "cell_type": "code",
      "metadata": {
        "id": "dT7l4uLBXoS-",
        "colab": {
          "base_uri": "https://localhost:8080/",
          "height": 85
        },
        "outputId": "df53a048-58d9-4ef4-cd8e-c0f96a736887"
      },
      "source": [
        "df['Area code'].value_counts()"
      ],
      "execution_count": null,
      "outputs": [
        {
          "output_type": "execute_result",
          "data": {
            "text/plain": [
              "415    337\n",
              "408    169\n",
              "510    161\n",
              "Name: Area code, dtype: int64"
            ]
          },
          "metadata": {
            "tags": []
          },
          "execution_count": 11
        }
      ]
    },
    {
      "cell_type": "code",
      "metadata": {
        "id": "gUquZeOdXjoS",
        "colab": {
          "base_uri": "https://localhost:8080/",
          "height": 396
        },
        "outputId": "e210bfca-42e7-41aa-b3fb-0718a314a11e"
      },
      "source": [
        "#Checking for null values using heatmap\n",
        "sns.heatmap(df.isnull(),cbar=False,yticklabels=False,cmap = 'coolwarm')"
      ],
      "execution_count": null,
      "outputs": [
        {
          "output_type": "execute_result",
          "data": {
            "text/plain": [
              "<matplotlib.axes._subplots.AxesSubplot at 0x7f4215ff25c0>"
            ]
          },
          "metadata": {
            "tags": []
          },
          "execution_count": 14
        },
        {
          "output_type": "display_data",
          "data": {
            "image/png": "[encoded data removed]",
            "text/plain": [
              "<Figure size 432x288 with 1 Axes>"
            ]
          },
          "metadata": {
            "tags": [],
            "needs_background": "light"
          }
        }
      ]
    },
    {
      "cell_type": "code",
      "metadata": {
        "id": "Ch73eD6wF5Hk",
        "colab": {
          "base_uri": "https://localhost:8080/",
          "height": 68
        },
        "outputId": "68ca17f9-a34d-4c8f-bdd9-10cab098ee90"
      },
      "source": [
        "#Churn rate\n",
        "df['Churn'].value_counts()/len(df['Churn'])"
      ],
      "execution_count": null,
      "outputs": [
        {
          "output_type": "execute_result",
          "data": {
            "text/plain": [
              "False    0.857571\n",
              "True     0.142429\n",
              "Name: Churn, dtype: float64"
            ]
          },
          "metadata": {
            "tags": []
          },
          "execution_count": 19
        }
      ]
    },
    {
      "cell_type": "code",
      "metadata": {
        "id": "OAofF_yIGT5q",
        "colab": {
          "base_uri": "https://localhost:8080/",
          "height": 298
        },
        "outputId": "8f10a16e-e283-45de-c344-9e46dde1174d"
      },
      "source": [
        "((df['Churn'].value_counts()/len(df['Churn'])) * 100).plot.bar()"
      ],
      "execution_count": null,
      "outputs": [
        {
          "output_type": "execute_result",
          "data": {
            "text/plain": [
              "<matplotlib.axes._subplots.AxesSubplot at 0x7fc151a41b70>"
            ]
          },
          "metadata": {
            "tags": []
          },
          "execution_count": 20
        },
        {
          "output_type": "display_data",
          "data": {
            "image/png": "[encoded data removed]",
            "text/plain": [
              "<Figure size 432x288 with 1 Axes>"
            ]
          },
          "metadata": {
            "tags": [],
            "needs_background": "light"
          }
        }
      ]
    },
    {
      "cell_type": "code",
      "metadata": {
        "id": "EXazjnz0HY8T",
        "colab": {
          "base_uri": "https://localhost:8080/",
          "height": 359
        },
        "outputId": "81724820-9620-4eb6-9055-13bfd787562d"
      },
      "source": [
        "#Mapping True/False to int\n",
        "dict_churn = {True:1, False:0}\n",
        "df['Churn Num'] = df['Churn'].map(dict_churn)\n",
        "df[['Churn Num', 'Churn']][:10]"
      ],
      "execution_count": null,
      "outputs": [
        {
          "output_type": "execute_result",
          "data": {
            "text/html": [
              "<div>\n",
              "<style scoped>\n",
              "    .dataframe tbody tr th:only-of-type {\n",
              "        vertical-align: middle;\n",
              "    }\n",
              "\n",
              "    .dataframe tbody tr th {\n",
              "        vertical-align: top;\n",
              "    }\n",
              "\n",
              "    .dataframe thead th {\n",
              "        text-align: right;\n",
              "    }\n",
              "</style>\n",
              "<table border=\"1\" class=\"dataframe\">\n",
              "  <thead>\n",
              "    <tr style=\"text-align: right;\">\n",
              "      <th></th>\n",
              "      <th>Churn Num</th>\n",
              "      <th>Churn</th>\n",
              "    </tr>\n",
              "  </thead>\n",
              "  <tbody>\n",
              "    <tr>\n",
              "      <th>0</th>\n",
              "      <td>0</td>\n",
              "      <td>False</td>\n",
              "    </tr>\n",
              "    <tr>\n",
              "      <th>1</th>\n",
              "      <td>1</td>\n",
              "      <td>True</td>\n",
              "    </tr>\n",
              "    <tr>\n",
              "      <th>2</th>\n",
              "      <td>1</td>\n",
              "      <td>True</td>\n",
              "    </tr>\n",
              "    <tr>\n",
              "      <th>3</th>\n",
              "      <td>0</td>\n",
              "      <td>False</td>\n",
              "    </tr>\n",
              "    <tr>\n",
              "      <th>4</th>\n",
              "      <td>0</td>\n",
              "      <td>False</td>\n",
              "    </tr>\n",
              "    <tr>\n",
              "      <th>5</th>\n",
              "      <td>0</td>\n",
              "      <td>False</td>\n",
              "    </tr>\n",
              "    <tr>\n",
              "      <th>6</th>\n",
              "      <td>0</td>\n",
              "      <td>False</td>\n",
              "    </tr>\n",
              "    <tr>\n",
              "      <th>7</th>\n",
              "      <td>1</td>\n",
              "      <td>True</td>\n",
              "    </tr>\n",
              "    <tr>\n",
              "      <th>8</th>\n",
              "      <td>0</td>\n",
              "      <td>False</td>\n",
              "    </tr>\n",
              "    <tr>\n",
              "      <th>9</th>\n",
              "      <td>0</td>\n",
              "      <td>False</td>\n",
              "    </tr>\n",
              "  </tbody>\n",
              "</table>\n",
              "</div>"
            ],
            "text/plain": [
              "   Churn Num  Churn\n",
              "0          0  False\n",
              "1          1   True\n",
              "2          1   True\n",
              "3          0  False\n",
              "4          0  False\n",
              "5          0  False\n",
              "6          0  False\n",
              "7          1   True\n",
              "8          0  False\n",
              "9          0  False"
            ]
          },
          "metadata": {
            "tags": []
          },
          "execution_count": 25
        }
      ]
    },
    {
      "cell_type": "code",
      "metadata": {
        "id": "9ca1nKfzGrCJ",
        "colab": {
          "base_uri": "https://localhost:8080/",
          "height": 901
        },
        "outputId": "9f58818b-aa9c-494f-feb1-d8e7c60cf402"
      },
      "source": [
        "df['State'].value_counts()"
      ],
      "execution_count": null,
      "outputs": [
        {
          "output_type": "execute_result",
          "data": {
            "text/plain": [
              "AZ    19\n",
              "NJ    18\n",
              "WA    18\n",
              "WV    18\n",
              "ND    18\n",
              "NM    18\n",
              "KS    18\n",
              "ID    17\n",
              "RI    17\n",
              "IN    17\n",
              "WI    17\n",
              "TX    17\n",
              "MS    17\n",
              "OR    16\n",
              "KY    16\n",
              "LA    16\n",
              "NE    16\n",
              "VT    16\n",
              "MI    15\n",
              "CT    15\n",
              "NY    15\n",
              "MT    15\n",
              "AL    14\n",
              "MN    14\n",
              "ME    13\n",
              "NH    13\n",
              "IL    13\n",
              "MA    13\n",
              "OH    12\n",
              "TN    12\n",
              "UT    12\n",
              "NC    12\n",
              "MO    12\n",
              "SD    11\n",
              "WY    11\n",
              "SC    11\n",
              "DE    10\n",
              "CA    10\n",
              "MD    10\n",
              "VA    10\n",
              "OK     9\n",
              "FL     9\n",
              "PA     9\n",
              "DC     9\n",
              "HI     9\n",
              "AK     9\n",
              "AR     8\n",
              "CO     7\n",
              "IA     6\n",
              "NV     5\n",
              "GA     5\n",
              "Name: State, dtype: int64"
            ]
          },
          "metadata": {
            "tags": []
          },
          "execution_count": 21
        }
      ]
    },
    {
      "cell_type": "code",
      "metadata": {
        "id": "60Ji7aP34BUk",
        "colab": {
          "base_uri": "https://localhost:8080/",
          "height": 282
        },
        "outputId": "b9cb41fe-815b-480f-a8f7-958696990f83"
      },
      "source": [
        "#Histogram\n",
        "df['Total day minutes'].plot.hist()\n",
        "#Day minutes of ~150 is common"
      ],
      "execution_count": null,
      "outputs": [
        {
          "output_type": "execute_result",
          "data": {
            "text/plain": [
              "<matplotlib.axes._subplots.AxesSubplot at 0x7fc15201ad30>"
            ]
          },
          "metadata": {
            "tags": []
          },
          "execution_count": 16
        },
        {
          "output_type": "display_data",
          "data": {
            "image/png": "[encoded data removed]",
            "text/plain": [
              "<Figure size 432x288 with 1 Axes>"
            ]
          },
          "metadata": {
            "tags": [],
            "needs_background": "light"
          }
        }
      ]
    },
    {
      "cell_type": "code",
      "metadata": {
        "id": "XbTt42bC5AS0",
        "colab": {
          "base_uri": "https://localhost:8080/",
          "height": 282
        },
        "outputId": "3d493c8c-840a-4aa3-9e69-d6f3a7234c48"
      },
      "source": [
        "df['Total day minutes'].plot.box()"
      ],
      "execution_count": null,
      "outputs": [
        {
          "output_type": "execute_result",
          "data": {
            "text/plain": [
              "<matplotlib.axes._subplots.AxesSubplot at 0x7fc151f8ef98>"
            ]
          },
          "metadata": {
            "tags": []
          },
          "execution_count": 17
        },
        {
          "output_type": "display_data",
          "data": {
            "image/png": "[encoded data removed]",
            "text/plain": [
              "<Figure size 432x288 with 1 Axes>"
            ]
          },
          "metadata": {
            "tags": [],
            "needs_background": "light"
          }
        }
      ]
    },
    {
      "cell_type": "code",
      "metadata": {
        "id": "6Xkwap8r-FSR",
        "colab": {
          "base_uri": "https://localhost:8080/",
          "height": 282
        },
        "outputId": "663f210a-65b4-4250-cfd5-5467499ce6d8"
      },
      "source": [
        "df['Customer service calls'].plot.box()"
      ],
      "execution_count": null,
      "outputs": [
        {
          "output_type": "execute_result",
          "data": {
            "text/plain": [
              "<matplotlib.axes._subplots.AxesSubplot at 0x7fc151aa7438>"
            ]
          },
          "metadata": {
            "tags": []
          },
          "execution_count": 18
        },
        {
          "output_type": "display_data",
          "data": {
            "image/png": "[encoded data removed]",
            "text/plain": [
              "<Figure size 432x288 with 1 Axes>"
            ]
          },
          "metadata": {
            "tags": [],
            "needs_background": "light"
          }
        }
      ]
    },
    {
      "cell_type": "code",
      "metadata": {
        "id": "tufT9zi9b6GN",
        "colab": {
          "base_uri": "https://localhost:8080/",
          "height": 296
        },
        "outputId": "5d59ac7d-45aa-4402-9fec-8f94453418fd"
      },
      "source": [
        "df.plot.scatter('Account length','Total day minutes')"
      ],
      "execution_count": null,
      "outputs": [
        {
          "output_type": "execute_result",
          "data": {
            "text/plain": [
              "<matplotlib.axes._subplots.AxesSubplot at 0x7fc150659358>"
            ]
          },
          "metadata": {
            "tags": []
          },
          "execution_count": 28
        },
        {
          "output_type": "display_data",
          "data": {
            "image/png": "[encoded data removed]",
            "text/plain": [
              "<Figure size 432x288 with 1 Axes>"
            ]
          },
          "metadata": {
            "tags": [],
            "needs_background": "light"
          }
        }
      ]
    },
    {
      "cell_type": "code",
      "metadata": {
        "id": "wRDkYnZaVgW-",
        "colab": {
          "base_uri": "https://localhost:8080/",
          "height": 304
        },
        "outputId": "54897b10-41f6-46f6-e53b-4c64c4fa2a95"
      },
      "source": [
        "  df.groupby('Area code')['Account length'].median().plot.bar()\n",
        "  plt.xlabel('Area code')\n",
        "  plt.ylabel('Account length')\n",
        "  plt.title('Area Code Vs Account Length')\n",
        "  plt.show()"
      ],
      "execution_count": null,
      "outputs": [
        {
          "output_type": "display_data",
          "data": {
            "image/png": "[encoded data removed]",
            "text/plain": [
              "<Figure size 432x288 with 1 Axes>"
            ]
          },
          "metadata": {
            "tags": [],
            "needs_background": "light"
          }
        }
      ]
    },
    {
      "cell_type": "code",
      "metadata": {
        "id": "csspBPrLdiZR",
        "colab": {
          "base_uri": "https://localhost:8080/",
          "height": 913
        },
        "outputId": "710ed98b-66f4-4f6c-f4a9-b9f948cc0f2f"
      },
      "source": [
        "#Correlation of all columns\n",
        "df.corr()"
      ],
      "execution_count": null,
      "outputs": [
        {
          "output_type": "execute_result",
          "data": {
            "text/html": [
              "<div>\n",
              "<style scoped>\n",
              "    .dataframe tbody tr th:only-of-type {\n",
              "        vertical-align: middle;\n",
              "    }\n",
              "\n",
              "    .dataframe tbody tr th {\n",
              "        vertical-align: top;\n",
              "    }\n",
              "\n",
              "    .dataframe thead th {\n",
              "        text-align: right;\n",
              "    }\n",
              "</style>\n",
              "<table border=\"1\" class=\"dataframe\">\n",
              "  <thead>\n",
              "    <tr style=\"text-align: right;\">\n",
              "      <th></th>\n",
              "      <th>Account length</th>\n",
              "      <th>Area code</th>\n",
              "      <th>Number vmail messages</th>\n",
              "      <th>Total day minutes</th>\n",
              "      <th>Total day calls</th>\n",
              "      <th>Total day charge</th>\n",
              "      <th>Total eve minutes</th>\n",
              "      <th>Total eve calls</th>\n",
              "      <th>Total eve charge</th>\n",
              "      <th>Total night minutes</th>\n",
              "      <th>Total night calls</th>\n",
              "      <th>Total night charge</th>\n",
              "      <th>Total intl minutes</th>\n",
              "      <th>Total intl calls</th>\n",
              "      <th>Total intl charge</th>\n",
              "      <th>Customer service calls</th>\n",
              "      <th>Churn</th>\n",
              "      <th>Churn Num</th>\n",
              "    </tr>\n",
              "  </thead>\n",
              "  <tbody>\n",
              "    <tr>\n",
              "      <th>Account length</th>\n",
              "      <td>1.000000</td>\n",
              "      <td>-0.026327</td>\n",
              "      <td>-0.011993</td>\n",
              "      <td>0.017833</td>\n",
              "      <td>0.035703</td>\n",
              "      <td>0.017839</td>\n",
              "      <td>0.027043</td>\n",
              "      <td>0.021237</td>\n",
              "      <td>0.027051</td>\n",
              "      <td>-0.007527</td>\n",
              "      <td>0.027228</td>\n",
              "      <td>-0.007528</td>\n",
              "      <td>0.002362</td>\n",
              "      <td>0.031279</td>\n",
              "      <td>0.002456</td>\n",
              "      <td>-0.027677</td>\n",
              "      <td>0.012315</td>\n",
              "      <td>0.012315</td>\n",
              "    </tr>\n",
              "    <tr>\n",
              "      <th>Area code</th>\n",
              "      <td>-0.026327</td>\n",
              "      <td>1.000000</td>\n",
              "      <td>-0.006907</td>\n",
              "      <td>0.051507</td>\n",
              "      <td>-0.008972</td>\n",
              "      <td>0.051492</td>\n",
              "      <td>0.017160</td>\n",
              "      <td>0.017783</td>\n",
              "      <td>0.017182</td>\n",
              "      <td>-0.016832</td>\n",
              "      <td>0.036421</td>\n",
              "      <td>-0.016818</td>\n",
              "      <td>-0.037980</td>\n",
              "      <td>-0.010530</td>\n",
              "      <td>-0.038044</td>\n",
              "      <td>0.000103</td>\n",
              "      <td>0.027129</td>\n",
              "      <td>0.027129</td>\n",
              "    </tr>\n",
              "    <tr>\n",
              "      <th>Number vmail messages</th>\n",
              "      <td>-0.011993</td>\n",
              "      <td>-0.006907</td>\n",
              "      <td>1.000000</td>\n",
              "      <td>-0.069172</td>\n",
              "      <td>-0.009952</td>\n",
              "      <td>-0.069187</td>\n",
              "      <td>0.040865</td>\n",
              "      <td>-0.051951</td>\n",
              "      <td>0.040876</td>\n",
              "      <td>0.039751</td>\n",
              "      <td>0.003367</td>\n",
              "      <td>0.039680</td>\n",
              "      <td>0.029949</td>\n",
              "      <td>-0.036847</td>\n",
              "      <td>0.029999</td>\n",
              "      <td>0.007859</td>\n",
              "      <td>-0.102381</td>\n",
              "      <td>-0.102381</td>\n",
              "    </tr>\n",
              "    <tr>\n",
              "      <th>Total day minutes</th>\n",
              "      <td>0.017833</td>\n",
              "      <td>0.051507</td>\n",
              "      <td>-0.069172</td>\n",
              "      <td>1.000000</td>\n",
              "      <td>-0.032306</td>\n",
              "      <td>1.000000</td>\n",
              "      <td>0.017987</td>\n",
              "      <td>0.043219</td>\n",
              "      <td>0.017945</td>\n",
              "      <td>-0.031600</td>\n",
              "      <td>0.052761</td>\n",
              "      <td>-0.031603</td>\n",
              "      <td>-0.006725</td>\n",
              "      <td>0.016597</td>\n",
              "      <td>-0.006841</td>\n",
              "      <td>0.029291</td>\n",
              "      <td>0.242781</td>\n",
              "      <td>0.242781</td>\n",
              "    </tr>\n",
              "    <tr>\n",
              "      <th>Total day calls</th>\n",
              "      <td>0.035703</td>\n",
              "      <td>-0.008972</td>\n",
              "      <td>-0.009952</td>\n",
              "      <td>-0.032306</td>\n",
              "      <td>1.000000</td>\n",
              "      <td>-0.032319</td>\n",
              "      <td>-0.004688</td>\n",
              "      <td>0.005851</td>\n",
              "      <td>-0.004664</td>\n",
              "      <td>0.079536</td>\n",
              "      <td>-0.030074</td>\n",
              "      <td>0.079529</td>\n",
              "      <td>-0.015319</td>\n",
              "      <td>-0.005155</td>\n",
              "      <td>-0.015201</td>\n",
              "      <td>-0.045953</td>\n",
              "      <td>0.019360</td>\n",
              "      <td>0.019360</td>\n",
              "    </tr>\n",
              "    <tr>\n",
              "      <th>Total day charge</th>\n",
              "      <td>0.017839</td>\n",
              "      <td>0.051492</td>\n",
              "      <td>-0.069187</td>\n",
              "      <td>1.000000</td>\n",
              "      <td>-0.032319</td>\n",
              "      <td>1.000000</td>\n",
              "      <td>0.017983</td>\n",
              "      <td>0.043231</td>\n",
              "      <td>0.017941</td>\n",
              "      <td>-0.031613</td>\n",
              "      <td>0.052748</td>\n",
              "      <td>-0.031616</td>\n",
              "      <td>-0.006720</td>\n",
              "      <td>0.016582</td>\n",
              "      <td>-0.006836</td>\n",
              "      <td>0.029290</td>\n",
              "      <td>0.242777</td>\n",
              "      <td>0.242777</td>\n",
              "    </tr>\n",
              "    <tr>\n",
              "      <th>Total eve minutes</th>\n",
              "      <td>0.027043</td>\n",
              "      <td>0.017160</td>\n",
              "      <td>0.040865</td>\n",
              "      <td>0.017987</td>\n",
              "      <td>-0.004688</td>\n",
              "      <td>0.017983</td>\n",
              "      <td>1.000000</td>\n",
              "      <td>-0.029077</td>\n",
              "      <td>1.000000</td>\n",
              "      <td>-0.007705</td>\n",
              "      <td>0.001938</td>\n",
              "      <td>-0.007603</td>\n",
              "      <td>-0.027855</td>\n",
              "      <td>0.002929</td>\n",
              "      <td>-0.027887</td>\n",
              "      <td>-0.012213</td>\n",
              "      <td>0.175614</td>\n",
              "      <td>0.175614</td>\n",
              "    </tr>\n",
              "    <tr>\n",
              "      <th>Total eve calls</th>\n",
              "      <td>0.021237</td>\n",
              "      <td>0.017783</td>\n",
              "      <td>-0.051951</td>\n",
              "      <td>0.043219</td>\n",
              "      <td>0.005851</td>\n",
              "      <td>0.043231</td>\n",
              "      <td>-0.029077</td>\n",
              "      <td>1.000000</td>\n",
              "      <td>-0.029089</td>\n",
              "      <td>-0.009856</td>\n",
              "      <td>0.036068</td>\n",
              "      <td>-0.009833</td>\n",
              "      <td>-0.001050</td>\n",
              "      <td>0.074829</td>\n",
              "      <td>-0.001152</td>\n",
              "      <td>0.008126</td>\n",
              "      <td>0.055669</td>\n",
              "      <td>0.055669</td>\n",
              "    </tr>\n",
              "    <tr>\n",
              "      <th>Total eve charge</th>\n",
              "      <td>0.027051</td>\n",
              "      <td>0.017182</td>\n",
              "      <td>0.040876</td>\n",
              "      <td>0.017945</td>\n",
              "      <td>-0.004664</td>\n",
              "      <td>0.017941</td>\n",
              "      <td>1.000000</td>\n",
              "      <td>-0.029089</td>\n",
              "      <td>1.000000</td>\n",
              "      <td>-0.007691</td>\n",
              "      <td>0.001939</td>\n",
              "      <td>-0.007589</td>\n",
              "      <td>-0.027863</td>\n",
              "      <td>0.002894</td>\n",
              "      <td>-0.027895</td>\n",
              "      <td>-0.012212</td>\n",
              "      <td>0.175616</td>\n",
              "      <td>0.175616</td>\n",
              "    </tr>\n",
              "    <tr>\n",
              "      <th>Total night minutes</th>\n",
              "      <td>-0.007527</td>\n",
              "      <td>-0.016832</td>\n",
              "      <td>0.039751</td>\n",
              "      <td>-0.031600</td>\n",
              "      <td>0.079536</td>\n",
              "      <td>-0.031613</td>\n",
              "      <td>-0.007705</td>\n",
              "      <td>-0.009856</td>\n",
              "      <td>-0.007691</td>\n",
              "      <td>1.000000</td>\n",
              "      <td>0.005209</td>\n",
              "      <td>0.999999</td>\n",
              "      <td>-0.041969</td>\n",
              "      <td>-0.057212</td>\n",
              "      <td>-0.042221</td>\n",
              "      <td>-0.067602</td>\n",
              "      <td>0.042930</td>\n",
              "      <td>0.042930</td>\n",
              "    </tr>\n",
              "    <tr>\n",
              "      <th>Total night calls</th>\n",
              "      <td>0.027228</td>\n",
              "      <td>0.036421</td>\n",
              "      <td>0.003367</td>\n",
              "      <td>0.052761</td>\n",
              "      <td>-0.030074</td>\n",
              "      <td>0.052748</td>\n",
              "      <td>0.001938</td>\n",
              "      <td>0.036068</td>\n",
              "      <td>0.001939</td>\n",
              "      <td>0.005209</td>\n",
              "      <td>1.000000</td>\n",
              "      <td>0.005195</td>\n",
              "      <td>0.024038</td>\n",
              "      <td>-0.072354</td>\n",
              "      <td>0.023863</td>\n",
              "      <td>-0.039794</td>\n",
              "      <td>-0.017626</td>\n",
              "      <td>-0.017626</td>\n",
              "    </tr>\n",
              "    <tr>\n",
              "      <th>Total night charge</th>\n",
              "      <td>-0.007528</td>\n",
              "      <td>-0.016818</td>\n",
              "      <td>0.039680</td>\n",
              "      <td>-0.031603</td>\n",
              "      <td>0.079529</td>\n",
              "      <td>-0.031616</td>\n",
              "      <td>-0.007603</td>\n",
              "      <td>-0.009833</td>\n",
              "      <td>-0.007589</td>\n",
              "      <td>0.999999</td>\n",
              "      <td>0.005195</td>\n",
              "      <td>1.000000</td>\n",
              "      <td>-0.041969</td>\n",
              "      <td>-0.057129</td>\n",
              "      <td>-0.042220</td>\n",
              "      <td>-0.067624</td>\n",
              "      <td>0.042958</td>\n",
              "      <td>0.042958</td>\n",
              "    </tr>\n",
              "    <tr>\n",
              "      <th>Total intl minutes</th>\n",
              "      <td>0.002362</td>\n",
              "      <td>-0.037980</td>\n",
              "      <td>0.029949</td>\n",
              "      <td>-0.006725</td>\n",
              "      <td>-0.015319</td>\n",
              "      <td>-0.006720</td>\n",
              "      <td>-0.027855</td>\n",
              "      <td>-0.001050</td>\n",
              "      <td>-0.027863</td>\n",
              "      <td>-0.041969</td>\n",
              "      <td>0.024038</td>\n",
              "      <td>-0.041969</td>\n",
              "      <td>1.000000</td>\n",
              "      <td>0.012600</td>\n",
              "      <td>0.999993</td>\n",
              "      <td>-0.036268</td>\n",
              "      <td>-0.003740</td>\n",
              "      <td>-0.003740</td>\n",
              "    </tr>\n",
              "    <tr>\n",
              "      <th>Total intl calls</th>\n",
              "      <td>0.031279</td>\n",
              "      <td>-0.010530</td>\n",
              "      <td>-0.036847</td>\n",
              "      <td>0.016597</td>\n",
              "      <td>-0.005155</td>\n",
              "      <td>0.016582</td>\n",
              "      <td>0.002929</td>\n",
              "      <td>0.074829</td>\n",
              "      <td>0.002894</td>\n",
              "      <td>-0.057212</td>\n",
              "      <td>-0.072354</td>\n",
              "      <td>-0.057129</td>\n",
              "      <td>0.012600</td>\n",
              "      <td>1.000000</td>\n",
              "      <td>0.012747</td>\n",
              "      <td>0.000259</td>\n",
              "      <td>0.015331</td>\n",
              "      <td>0.015331</td>\n",
              "    </tr>\n",
              "    <tr>\n",
              "      <th>Total intl charge</th>\n",
              "      <td>0.002456</td>\n",
              "      <td>-0.038044</td>\n",
              "      <td>0.029999</td>\n",
              "      <td>-0.006841</td>\n",
              "      <td>-0.015201</td>\n",
              "      <td>-0.006836</td>\n",
              "      <td>-0.027887</td>\n",
              "      <td>-0.001152</td>\n",
              "      <td>-0.027895</td>\n",
              "      <td>-0.042221</td>\n",
              "      <td>0.023863</td>\n",
              "      <td>-0.042220</td>\n",
              "      <td>0.999993</td>\n",
              "      <td>0.012747</td>\n",
              "      <td>1.000000</td>\n",
              "      <td>-0.036167</td>\n",
              "      <td>-0.003681</td>\n",
              "      <td>-0.003681</td>\n",
              "    </tr>\n",
              "    <tr>\n",
              "      <th>Customer service calls</th>\n",
              "      <td>-0.027677</td>\n",
              "      <td>0.000103</td>\n",
              "      <td>0.007859</td>\n",
              "      <td>0.029291</td>\n",
              "      <td>-0.045953</td>\n",
              "      <td>0.029290</td>\n",
              "      <td>-0.012213</td>\n",
              "      <td>0.008126</td>\n",
              "      <td>-0.012212</td>\n",
              "      <td>-0.067602</td>\n",
              "      <td>-0.039794</td>\n",
              "      <td>-0.067624</td>\n",
              "      <td>-0.036268</td>\n",
              "      <td>0.000259</td>\n",
              "      <td>-0.036167</td>\n",
              "      <td>1.000000</td>\n",
              "      <td>0.233259</td>\n",
              "      <td>0.233259</td>\n",
              "    </tr>\n",
              "    <tr>\n",
              "      <th>Churn</th>\n",
              "      <td>0.012315</td>\n",
              "      <td>0.027129</td>\n",
              "      <td>-0.102381</td>\n",
              "      <td>0.242781</td>\n",
              "      <td>0.019360</td>\n",
              "      <td>0.242777</td>\n",
              "      <td>0.175614</td>\n",
              "      <td>0.055669</td>\n",
              "      <td>0.175616</td>\n",
              "      <td>0.042930</td>\n",
              "      <td>-0.017626</td>\n",
              "      <td>0.042958</td>\n",
              "      <td>-0.003740</td>\n",
              "      <td>0.015331</td>\n",
              "      <td>-0.003681</td>\n",
              "      <td>0.233259</td>\n",
              "      <td>1.000000</td>\n",
              "      <td>1.000000</td>\n",
              "    </tr>\n",
              "    <tr>\n",
              "      <th>Churn Num</th>\n",
              "      <td>0.012315</td>\n",
              "      <td>0.027129</td>\n",
              "      <td>-0.102381</td>\n",
              "      <td>0.242781</td>\n",
              "      <td>0.019360</td>\n",
              "      <td>0.242777</td>\n",
              "      <td>0.175614</td>\n",
              "      <td>0.055669</td>\n",
              "      <td>0.175616</td>\n",
              "      <td>0.042930</td>\n",
              "      <td>-0.017626</td>\n",
              "      <td>0.042958</td>\n",
              "      <td>-0.003740</td>\n",
              "      <td>0.015331</td>\n",
              "      <td>-0.003681</td>\n",
              "      <td>0.233259</td>\n",
              "      <td>1.000000</td>\n",
              "      <td>1.000000</td>\n",
              "    </tr>\n",
              "  </tbody>\n",
              "</table>\n",
              "</div>"
            ],
            "text/plain": [
              "                        Account length  Area code  ...     Churn  Churn Num\n",
              "Account length                1.000000  -0.026327  ...  0.012315   0.012315\n",
              "Area code                    -0.026327   1.000000  ...  0.027129   0.027129\n",
              "Number vmail messages        -0.011993  -0.006907  ... -0.102381  -0.102381\n",
              "Total day minutes             0.017833   0.051507  ...  0.242781   0.242781\n",
              "Total day calls               0.035703  -0.008972  ...  0.019360   0.019360\n",
              "Total day charge              0.017839   0.051492  ...  0.242777   0.242777\n",
              "Total eve minutes             0.027043   0.017160  ...  0.175614   0.175614\n",
              "Total eve calls               0.021237   0.017783  ...  0.055669   0.055669\n",
              "Total eve charge              0.027051   0.017182  ...  0.175616   0.175616\n",
              "Total night minutes          -0.007527  -0.016832  ...  0.042930   0.042930\n",
              "Total night calls             0.027228   0.036421  ... -0.017626  -0.017626\n",
              "Total night charge           -0.007528  -0.016818  ...  0.042958   0.042958\n",
              "Total intl minutes            0.002362  -0.037980  ... -0.003740  -0.003740\n",
              "Total intl calls              0.031279  -0.010530  ...  0.015331   0.015331\n",
              "Total intl charge             0.002456  -0.038044  ... -0.003681  -0.003681\n",
              "Customer service calls       -0.027677   0.000103  ...  0.233259   0.233259\n",
              "Churn                         0.012315   0.027129  ...  1.000000   1.000000\n",
              "Churn Num                     0.012315   0.027129  ...  1.000000   1.000000\n",
              "\n",
              "[18 rows x 18 columns]"
            ]
          },
          "metadata": {
            "tags": []
          },
          "execution_count": 29
        }
      ]
    },
    {
      "cell_type": "code",
      "metadata": {
        "id": "iDJUHS1vxqxX",
        "colab": {
          "base_uri": "https://localhost:8080/",
          "height": 509
        },
        "outputId": "25e07b26-2bfd-4f62-978c-a7483670b339"
      },
      "source": [
        "#Heatmap of correlation for quick visualization\n",
        "plt.figure(figsize=(8,6))\n",
        "sns.heatmap(df.corr(),cmap='YlGnBu',annot=False) "
      ],
      "execution_count": null,
      "outputs": [
        {
          "output_type": "execute_result",
          "data": {
            "text/plain": [
              "<matplotlib.axes._subplots.AxesSubplot at 0x7f4215dce6a0>"
            ]
          },
          "metadata": {
            "tags": []
          },
          "execution_count": 16
        },
        {
          "output_type": "display_data",
          "data": {
            "image/png": "[encoded data removed]",
            "text/plain": [
              "<Figure size 576x432 with 2 Axes>"
            ]
          },
          "metadata": {
            "tags": [],
            "needs_background": "light"
          }
        }
      ]
    },
    {
      "cell_type": "code",
      "metadata": {
        "id": "yK8a-05bymH9",
        "colab": {
          "base_uri": "https://localhost:8080/",
          "height": 618
        },
        "outputId": "b579e465-de27-4db8-e6be-ad523d3cf7c2"
      },
      "source": [
        "#Churn correlation matrix\n",
        "cols = ['Churn','Account length', 'Total day minutes', 'Total eve minutes', 'Total night minutes','Total intl minutes', 'Number vmail messages', 'Customer service calls']\n",
        "corrMat = df[cols].corr()\n",
        "plt.figure(figsize=(12,8))\n",
        "sns.heatmap(corrMat, annot=True, cmap = 'YlGnBu')"
      ],
      "execution_count": null,
      "outputs": [
        {
          "output_type": "execute_result",
          "data": {
            "text/plain": [
              "<matplotlib.axes._subplots.AxesSubplot at 0x7f420b0a5710>"
            ]
          },
          "metadata": {
            "tags": []
          },
          "execution_count": 29
        },
        {
          "output_type": "display_data",
          "data": {
            "image/png": "[encoded data removed]",
            "text/plain": [
              "<Figure size 864x576 with 2 Axes>"
            ]
          },
          "metadata": {
            "tags": [],
            "needs_background": "light"
          }
        }
      ]
    },
    {
      "cell_type": "code",
      "metadata": {
        "id": "_B-YlTm5eopq",
        "colab": {
          "base_uri": "https://localhost:8080/",
          "height": 34
        },
        "outputId": "5db127de-ba9b-44e3-8d81-11a43aff178a"
      },
      "source": [
        "df['Churn'].corr(df['Total day minutes'])"
      ],
      "execution_count": null,
      "outputs": [
        {
          "output_type": "execute_result",
          "data": {
            "text/plain": [
              "0.24278090380963452"
            ]
          },
          "metadata": {
            "tags": []
          },
          "execution_count": 30
        }
      ]
    },
    {
      "cell_type": "code",
      "metadata": {
        "id": "UdlwuAU5fZ1i",
        "colab": {
          "base_uri": "https://localhost:8080/",
          "height": 406
        },
        "outputId": "c4b9d7e5-b1ff-4117-9292-9979c926c3f0"
      },
      "source": [
        "#Bar graph for Customers in each area code\n",
        "plt.rcParams[\"figure.figsize\"] = (10,5)\n",
        "sns.countplot(df[\"Area code\"],palette = 'cool')\n",
        "plt.title(\"Customers per Area\",fontsize=15)\n",
        "plt.xlabel(\"Area code\",fontsize=10)\n",
        "plt.ylabel(\"Count per code\",fontsize=10)\n",
        "plt.show()"
      ],
      "execution_count": null,
      "outputs": [
        {
          "output_type": "stream",
          "text": [
            "/usr/local/lib/python3.6/dist-packages/seaborn/_decorators.py:43: FutureWarning: Pass the following variable as a keyword arg: x. From version 0.12, the only valid positional argument will be `data`, and passing other arguments without an explicit keyword will result in an error or misinterpretation.\n",
            "  FutureWarning\n"
          ],
          "name": "stderr"
        },
        {
          "output_type": "display_data",
          "data": {
            "image/png": "[encoded data removed]",
            "text/plain": [
              "<Figure size 720x360 with 1 Axes>"
            ]
          },
          "metadata": {
            "tags": [],
            "needs_background": "light"
          }
        }
      ]
    },
    {
      "cell_type": "code",
      "metadata": {
        "id": "SQE1Rr-95lbk",
        "colab": {
          "base_uri": "https://localhost:8080/",
          "height": 391
        },
        "outputId": "2bfc8fe2-486b-434e-afe6-ebcb4cb9a8ca"
      },
      "source": [
        "df.isnull().sum()"
      ],
      "execution_count": null,
      "outputs": [
        {
          "output_type": "execute_result",
          "data": {
            "text/plain": [
              "State                     0\n",
              "Account length            0\n",
              "Area code                 0\n",
              "International plan        0\n",
              "Voice mail plan           0\n",
              "Number vmail messages     0\n",
              "Total day minutes         0\n",
              "Total day calls           0\n",
              "Total day charge          0\n",
              "Total eve minutes         0\n",
              "Total eve calls           0\n",
              "Total eve charge          0\n",
              "Total night minutes       0\n",
              "Total night calls         0\n",
              "Total night charge        0\n",
              "Total intl minutes        0\n",
              "Total intl calls          0\n",
              "Total intl charge         0\n",
              "Customer service calls    0\n",
              "Churn                     0\n",
              "Churn Num                 0\n",
              "dtype: int64"
            ]
          },
          "metadata": {
            "tags": []
          },
          "execution_count": 40
        }
      ]
    },
    {
      "cell_type": "code",
      "metadata": {
        "id": "OBjKvNKw57TF"
      },
      "source": [
        "#drop rows with missing values\n",
        "df.dropna()"
      ],
      "execution_count": null,
      "outputs": []
    },
    {
      "cell_type": "code",
      "metadata": {
        "id": "8rSQNnch7CYr",
        "colab": {
          "base_uri": "https://localhost:8080/",
          "height": 238
        },
        "outputId": "e035ec65-9bd8-4323-df0e-fbc335e71bb7"
      },
      "source": [
        "#get only rows which have 'Total day calls' populated\n",
        "df_day_calls = df[df['Total day calls'].notna()]\n",
        "df_day_calls.head()"
      ],
      "execution_count": null,
      "outputs": [
        {
          "output_type": "execute_result",
          "data": {
            "text/html": [
              "<div>\n",
              "<style scoped>\n",
              "    .dataframe tbody tr th:only-of-type {\n",
              "        vertical-align: middle;\n",
              "    }\n",
              "\n",
              "    .dataframe tbody tr th {\n",
              "        vertical-align: top;\n",
              "    }\n",
              "\n",
              "    .dataframe thead th {\n",
              "        text-align: right;\n",
              "    }\n",
              "</style>\n",
              "<table border=\"1\" class=\"dataframe\">\n",
              "  <thead>\n",
              "    <tr style=\"text-align: right;\">\n",
              "      <th></th>\n",
              "      <th>State</th>\n",
              "      <th>Account length</th>\n",
              "      <th>Area code</th>\n",
              "      <th>International plan</th>\n",
              "      <th>Voice mail plan</th>\n",
              "      <th>Number vmail messages</th>\n",
              "      <th>Total day minutes</th>\n",
              "      <th>Total day calls</th>\n",
              "      <th>Total day charge</th>\n",
              "      <th>Total eve minutes</th>\n",
              "      <th>Total eve calls</th>\n",
              "      <th>Total eve charge</th>\n",
              "      <th>Total night minutes</th>\n",
              "      <th>Total night calls</th>\n",
              "      <th>Total night charge</th>\n",
              "      <th>Total intl minutes</th>\n",
              "      <th>Total intl calls</th>\n",
              "      <th>Total intl charge</th>\n",
              "      <th>Customer service calls</th>\n",
              "      <th>Churn</th>\n",
              "      <th>Churn Num</th>\n",
              "    </tr>\n",
              "  </thead>\n",
              "  <tbody>\n",
              "    <tr>\n",
              "      <th>0</th>\n",
              "      <td>LA</td>\n",
              "      <td>117</td>\n",
              "      <td>408</td>\n",
              "      <td>No</td>\n",
              "      <td>No</td>\n",
              "      <td>0</td>\n",
              "      <td>184.5</td>\n",
              "      <td>97</td>\n",
              "      <td>31.37</td>\n",
              "      <td>351.6</td>\n",
              "      <td>80</td>\n",
              "      <td>29.89</td>\n",
              "      <td>215.8</td>\n",
              "      <td>90</td>\n",
              "      <td>9.71</td>\n",
              "      <td>8.7</td>\n",
              "      <td>4</td>\n",
              "      <td>2.35</td>\n",
              "      <td>1</td>\n",
              "      <td>False</td>\n",
              "      <td>0</td>\n",
              "    </tr>\n",
              "    <tr>\n",
              "      <th>1</th>\n",
              "      <td>IN</td>\n",
              "      <td>65</td>\n",
              "      <td>415</td>\n",
              "      <td>No</td>\n",
              "      <td>No</td>\n",
              "      <td>0</td>\n",
              "      <td>129.1</td>\n",
              "      <td>137</td>\n",
              "      <td>21.95</td>\n",
              "      <td>228.5</td>\n",
              "      <td>83</td>\n",
              "      <td>19.42</td>\n",
              "      <td>208.8</td>\n",
              "      <td>111</td>\n",
              "      <td>9.40</td>\n",
              "      <td>12.7</td>\n",
              "      <td>6</td>\n",
              "      <td>3.43</td>\n",
              "      <td>4</td>\n",
              "      <td>True</td>\n",
              "      <td>1</td>\n",
              "    </tr>\n",
              "    <tr>\n",
              "      <th>2</th>\n",
              "      <td>NY</td>\n",
              "      <td>161</td>\n",
              "      <td>415</td>\n",
              "      <td>No</td>\n",
              "      <td>No</td>\n",
              "      <td>0</td>\n",
              "      <td>332.9</td>\n",
              "      <td>67</td>\n",
              "      <td>56.59</td>\n",
              "      <td>317.8</td>\n",
              "      <td>97</td>\n",
              "      <td>27.01</td>\n",
              "      <td>160.6</td>\n",
              "      <td>128</td>\n",
              "      <td>7.23</td>\n",
              "      <td>5.4</td>\n",
              "      <td>9</td>\n",
              "      <td>1.46</td>\n",
              "      <td>4</td>\n",
              "      <td>True</td>\n",
              "      <td>1</td>\n",
              "    </tr>\n",
              "    <tr>\n",
              "      <th>3</th>\n",
              "      <td>SC</td>\n",
              "      <td>111</td>\n",
              "      <td>415</td>\n",
              "      <td>No</td>\n",
              "      <td>No</td>\n",
              "      <td>0</td>\n",
              "      <td>110.4</td>\n",
              "      <td>103</td>\n",
              "      <td>18.77</td>\n",
              "      <td>137.3</td>\n",
              "      <td>102</td>\n",
              "      <td>11.67</td>\n",
              "      <td>189.6</td>\n",
              "      <td>105</td>\n",
              "      <td>8.53</td>\n",
              "      <td>7.7</td>\n",
              "      <td>6</td>\n",
              "      <td>2.08</td>\n",
              "      <td>2</td>\n",
              "      <td>False</td>\n",
              "      <td>0</td>\n",
              "    </tr>\n",
              "    <tr>\n",
              "      <th>4</th>\n",
              "      <td>HI</td>\n",
              "      <td>49</td>\n",
              "      <td>510</td>\n",
              "      <td>No</td>\n",
              "      <td>No</td>\n",
              "      <td>0</td>\n",
              "      <td>119.3</td>\n",
              "      <td>117</td>\n",
              "      <td>20.28</td>\n",
              "      <td>215.1</td>\n",
              "      <td>109</td>\n",
              "      <td>18.28</td>\n",
              "      <td>178.7</td>\n",
              "      <td>90</td>\n",
              "      <td>8.04</td>\n",
              "      <td>11.1</td>\n",
              "      <td>1</td>\n",
              "      <td>3.00</td>\n",
              "      <td>1</td>\n",
              "      <td>False</td>\n",
              "      <td>0</td>\n",
              "    </tr>\n",
              "  </tbody>\n",
              "</table>\n",
              "</div>"
            ],
            "text/plain": [
              "  State  Account length  Area code  ... Customer service calls  Churn  Churn Num\n",
              "0    LA             117        408  ...                      1  False          0\n",
              "1    IN              65        415  ...                      4   True          1\n",
              "2    NY             161        415  ...                      4   True          1\n",
              "3    SC             111        415  ...                      2  False          0\n",
              "4    HI              49        510  ...                      1  False          0\n",
              "\n",
              "[5 rows x 21 columns]"
            ]
          },
          "metadata": {
            "tags": []
          },
          "execution_count": 42
        }
      ]
    },
    {
      "cell_type": "code",
      "metadata": {
        "id": "yGqyDs0d7uqd"
      },
      "source": [
        "df['Total day calls'].fillna(0)\n",
        "df[:5]\n",
        "df['Total day calls'].fillna(df['Total day calls'].mean())"
      ],
      "execution_count": null,
      "outputs": []
    },
    {
      "cell_type": "code",
      "metadata": {
        "id": "isDrUZm39SpO",
        "colab": {
          "base_uri": "https://localhost:8080/",
          "height": 337
        },
        "outputId": "f4c117df-6beb-4436-c40d-dc5bef79faaa"
      },
      "source": [
        "df['Total day minutes'].plot.box()"
      ],
      "execution_count": null,
      "outputs": [
        {
          "output_type": "execute_result",
          "data": {
            "text/plain": [
              "<matplotlib.axes._subplots.AxesSubplot at 0x7fc1465e8438>"
            ]
          },
          "metadata": {
            "tags": []
          },
          "execution_count": 44
        },
        {
          "output_type": "display_data",
          "data": {
            "image/png": "[encoded data removed]",
            "text/plain": [
              "<Figure size 720x360 with 1 Axes>"
            ]
          },
          "metadata": {
            "tags": [],
            "needs_background": "light"
          }
        }
      ]
    },
    {
      "cell_type": "code",
      "metadata": {
        "id": "tGsCpWYb9gGU",
        "colab": {
          "base_uri": "https://localhost:8080/",
          "height": 34
        },
        "outputId": "6e4e5374-9b9b-44b7-d57c-bc39f4951dc0"
      },
      "source": [
        "#remove outliers\n",
        "df_no_outliers_dmin = df[(df['Total day minutes']<250) & (df['Total day minutes']>100) ]\n",
        "df_no_outliers_dmin.shape"
      ],
      "execution_count": null,
      "outputs": [
        {
          "output_type": "execute_result",
          "data": {
            "text/plain": [
              "(547, 21)"
            ]
          },
          "metadata": {
            "tags": []
          },
          "execution_count": 50
        }
      ]
    },
    {
      "cell_type": "code",
      "metadata": {
        "id": "zMDHO82OBZt9",
        "colab": {
          "base_uri": "https://localhost:8080/",
          "height": 337
        },
        "outputId": "7c959320-5165-4a20-f8fc-6a6b1388c01b"
      },
      "source": [
        "df_no_outliers_dmin['Total day minutes'].plot.box()"
      ],
      "execution_count": null,
      "outputs": [
        {
          "output_type": "execute_result",
          "data": {
            "text/plain": [
              "<matplotlib.axes._subplots.AxesSubplot at 0x7fc1463d5cf8>"
            ]
          },
          "metadata": {
            "tags": []
          },
          "execution_count": 51
        },
        {
          "output_type": "display_data",
          "data": {
            "image/png": "[encoded data removed]",
            "text/plain": [
              "<Figure size 720x360 with 1 Axes>"
            ]
          },
          "metadata": {
            "tags": [],
            "needs_background": "light"
          }
        }
      ]
    },
    {
      "cell_type": "code",
      "metadata": {
        "id": "cuRePEz6Bgx8",
        "colab": {
          "base_uri": "https://localhost:8080/",
          "height": 337
        },
        "outputId": "05eef0e4-f13b-4adb-8cbc-f7386ef11413"
      },
      "source": [
        "#replace outliers\n",
        "df_repl_outliers_dmin = df\n",
        "df_repl_outliers_dmin.loc[df_repl_outliers_dmin['Total day minutes']>250, 'Total day minutes'] = np.mean(df_repl_outliers_dmin['Total day minutes'])\n",
        "df_repl_outliers_dmin.shape\n",
        "df_repl_outliers_dmin['Total day minutes'].plot.box()"
      ],
      "execution_count": null,
      "outputs": [
        {
          "output_type": "execute_result",
          "data": {
            "text/plain": [
              "<matplotlib.axes._subplots.AxesSubplot at 0x7fc14610d0b8>"
            ]
          },
          "metadata": {
            "tags": []
          },
          "execution_count": 58
        },
        {
          "output_type": "display_data",
          "data": {
            "image/png": "[encoded data removed]",
            "text/plain": [
              "<Figure size 720x360 with 1 Axes>"
            ]
          },
          "metadata": {
            "tags": [],
            "needs_background": "light"
          }
        }
      ]
    },
    {
      "cell_type": "code",
      "metadata": {
        "id": "B3sHN253HYKY",
        "colab": {
          "base_uri": "https://localhost:8080/",
          "height": 34
        },
        "outputId": "628b1329-4654-4069-8bcb-082a42fe961d"
      },
      "source": [
        "#Average charge for customers whose account has been active for > 90 days\n",
        "df[(df['Churn']==0 & (df['Account length']>90))]['Total day charge'].mean()"
      ],
      "execution_count": null,
      "outputs": [
        {
          "output_type": "execute_result",
          "data": {
            "text/plain": [
              "29.828828671328658"
            ]
          },
          "metadata": {
            "tags": []
          },
          "execution_count": 59
        }
      ]
    },
    {
      "cell_type": "code",
      "metadata": {
        "id": "radEmMS3cUYw",
        "colab": {
          "base_uri": "https://localhost:8080/",
          "height": 391
        },
        "outputId": "b5b73c3e-6dce-4e3e-f5cd-33ce54032d46"
      },
      "source": [
        "df.apply(np.max)"
      ],
      "execution_count": null,
      "outputs": [
        {
          "output_type": "execute_result",
          "data": {
            "text/plain": [
              "State                        WY\n",
              "Account length              232\n",
              "Area code                   510\n",
              "International plan          Yes\n",
              "Voice mail plan             Yes\n",
              "Number vmail messages        51\n",
              "Total day minutes         249.9\n",
              "Total day calls             165\n",
              "Total day charge          56.83\n",
              "Total eve minutes         361.8\n",
              "Total eve calls             168\n",
              "Total eve charge          30.75\n",
              "Total night minutes       367.7\n",
              "Total night calls           175\n",
              "Total night charge        16.55\n",
              "Total intl minutes         18.3\n",
              "Total intl calls             18\n",
              "Total intl charge          4.94\n",
              "Customer service calls        8\n",
              "Churn                      True\n",
              "Churn Num                     1\n",
              "dtype: object"
            ]
          },
          "metadata": {
            "tags": []
          },
          "execution_count": 60
        }
      ]
    },
    {
      "cell_type": "code",
      "metadata": {
        "id": "Rqe1I0Jtc9GB",
        "colab": {
          "base_uri": "https://localhost:8080/",
          "height": 207
        },
        "outputId": "bebe2829-1014-450b-bbd6-b59f5f0b879b"
      },
      "source": [
        "df.groupby(['Churn'])['Total day charge','Total night charge'].describe(percentiles=[])"
      ],
      "execution_count": null,
      "outputs": [
        {
          "output_type": "stream",
          "text": [
            "/usr/local/lib/python3.6/dist-packages/ipykernel_launcher.py:1: FutureWarning: Indexing with multiple keys (implicitly converted to a tuple of keys) will be deprecated, use a list instead.\n",
            "  \"\"\"Entry point for launching an IPython kernel.\n"
          ],
          "name": "stderr"
        },
        {
          "output_type": "execute_result",
          "data": {
            "text/html": [
              "<div>\n",
              "<style scoped>\n",
              "    .dataframe tbody tr th:only-of-type {\n",
              "        vertical-align: middle;\n",
              "    }\n",
              "\n",
              "    .dataframe tbody tr th {\n",
              "        vertical-align: top;\n",
              "    }\n",
              "\n",
              "    .dataframe thead tr th {\n",
              "        text-align: left;\n",
              "    }\n",
              "\n",
              "    .dataframe thead tr:last-of-type th {\n",
              "        text-align: right;\n",
              "    }\n",
              "</style>\n",
              "<table border=\"1\" class=\"dataframe\">\n",
              "  <thead>\n",
              "    <tr>\n",
              "      <th></th>\n",
              "      <th colspan=\"6\" halign=\"left\">Total day charge</th>\n",
              "      <th colspan=\"6\" halign=\"left\">Total night charge</th>\n",
              "    </tr>\n",
              "    <tr>\n",
              "      <th></th>\n",
              "      <th>count</th>\n",
              "      <th>mean</th>\n",
              "      <th>std</th>\n",
              "      <th>min</th>\n",
              "      <th>50%</th>\n",
              "      <th>max</th>\n",
              "      <th>count</th>\n",
              "      <th>mean</th>\n",
              "      <th>std</th>\n",
              "      <th>min</th>\n",
              "      <th>50%</th>\n",
              "      <th>max</th>\n",
              "    </tr>\n",
              "    <tr>\n",
              "      <th>Churn</th>\n",
              "      <th></th>\n",
              "      <th></th>\n",
              "      <th></th>\n",
              "      <th></th>\n",
              "      <th></th>\n",
              "      <th></th>\n",
              "      <th></th>\n",
              "      <th></th>\n",
              "      <th></th>\n",
              "      <th></th>\n",
              "      <th></th>\n",
              "      <th></th>\n",
              "    </tr>\n",
              "  </thead>\n",
              "  <tbody>\n",
              "    <tr>\n",
              "      <th>False</th>\n",
              "      <td>572.0</td>\n",
              "      <td>29.828829</td>\n",
              "      <td>8.589717</td>\n",
              "      <td>4.40</td>\n",
              "      <td>29.8</td>\n",
              "      <td>53.65</td>\n",
              "      <td>572.0</td>\n",
              "      <td>8.946731</td>\n",
              "      <td>2.268607</td>\n",
              "      <td>1.04</td>\n",
              "      <td>9.03</td>\n",
              "      <td>16.55</td>\n",
              "    </tr>\n",
              "    <tr>\n",
              "      <th>True</th>\n",
              "      <td>95.0</td>\n",
              "      <td>36.379053</td>\n",
              "      <td>12.063437</td>\n",
              "      <td>10.64</td>\n",
              "      <td>39.3</td>\n",
              "      <td>56.83</td>\n",
              "      <td>95.0</td>\n",
              "      <td>9.221789</td>\n",
              "      <td>2.050324</td>\n",
              "      <td>3.26</td>\n",
              "      <td>9.18</td>\n",
              "      <td>14.04</td>\n",
              "    </tr>\n",
              "  </tbody>\n",
              "</table>\n",
              "</div>"
            ],
            "text/plain": [
              "      Total day charge                        ... Total night charge             \n",
              "                 count       mean        std  ...                min   50%    max\n",
              "Churn                                         ...                                \n",
              "False            572.0  29.828829   8.589717  ...               1.04  9.03  16.55\n",
              "True              95.0  36.379053  12.063437  ...               3.26  9.18  14.04\n",
              "\n",
              "[2 rows x 12 columns]"
            ]
          },
          "metadata": {
            "tags": []
          },
          "execution_count": 66
        }
      ]
    },
    {
      "cell_type": "code",
      "metadata": {
        "id": "1P_C-YvbdjbK",
        "colab": {
          "base_uri": "https://localhost:8080/",
          "height": 207
        },
        "outputId": "458c9df8-5407-4f7b-fc2b-d18f9ceff30e"
      },
      "source": [
        "df.groupby(['International plan'])['Total intl charge', 'Total intl minutes'].agg([np.mean])"
      ],
      "execution_count": null,
      "outputs": [
        {
          "output_type": "stream",
          "text": [
            "/usr/local/lib/python3.6/dist-packages/ipykernel_launcher.py:1: FutureWarning: Indexing with multiple keys (implicitly converted to a tuple of keys) will be deprecated, use a list instead.\n",
            "  \"\"\"Entry point for launching an IPython kernel.\n"
          ],
          "name": "stderr"
        },
        {
          "output_type": "execute_result",
          "data": {
            "text/html": [
              "<div>\n",
              "<style scoped>\n",
              "    .dataframe tbody tr th:only-of-type {\n",
              "        vertical-align: middle;\n",
              "    }\n",
              "\n",
              "    .dataframe tbody tr th {\n",
              "        vertical-align: top;\n",
              "    }\n",
              "\n",
              "    .dataframe thead tr th {\n",
              "        text-align: left;\n",
              "    }\n",
              "\n",
              "    .dataframe thead tr:last-of-type th {\n",
              "        text-align: right;\n",
              "    }\n",
              "</style>\n",
              "<table border=\"1\" class=\"dataframe\">\n",
              "  <thead>\n",
              "    <tr>\n",
              "      <th></th>\n",
              "      <th>Total intl charge</th>\n",
              "      <th>Total intl minutes</th>\n",
              "    </tr>\n",
              "    <tr>\n",
              "      <th></th>\n",
              "      <th>mean</th>\n",
              "      <th>mean</th>\n",
              "    </tr>\n",
              "    <tr>\n",
              "      <th>International plan</th>\n",
              "      <th></th>\n",
              "      <th></th>\n",
              "    </tr>\n",
              "  </thead>\n",
              "  <tbody>\n",
              "    <tr>\n",
              "      <th>No</th>\n",
              "      <td>2.761824</td>\n",
              "      <td>10.226873</td>\n",
              "    </tr>\n",
              "    <tr>\n",
              "      <th>Yes</th>\n",
              "      <td>2.801132</td>\n",
              "      <td>10.371698</td>\n",
              "    </tr>\n",
              "  </tbody>\n",
              "</table>\n",
              "</div>"
            ],
            "text/plain": [
              "                   Total intl charge Total intl minutes\n",
              "                                mean               mean\n",
              "International plan                                     \n",
              "No                          2.761824          10.226873\n",
              "Yes                         2.801132          10.371698"
            ]
          },
          "metadata": {
            "tags": []
          },
          "execution_count": 68
        }
      ]
    },
    {
      "cell_type": "code",
      "metadata": {
        "id": "M44wUIjdd40h",
        "colab": {
          "base_uri": "https://localhost:8080/",
          "height": 142
        },
        "outputId": "d9513f8e-2d3d-4844-b5d2-99126784f092"
      },
      "source": [
        "df.pivot_table(['Total day charge', 'Total eve charge', 'Total night charge'],\n",
        "               ['Churn'], aggfunc='mean')"
      ],
      "execution_count": null,
      "outputs": [
        {
          "output_type": "execute_result",
          "data": {
            "text/html": [
              "<div>\n",
              "<style scoped>\n",
              "    .dataframe tbody tr th:only-of-type {\n",
              "        vertical-align: middle;\n",
              "    }\n",
              "\n",
              "    .dataframe tbody tr th {\n",
              "        vertical-align: top;\n",
              "    }\n",
              "\n",
              "    .dataframe thead th {\n",
              "        text-align: right;\n",
              "    }\n",
              "</style>\n",
              "<table border=\"1\" class=\"dataframe\">\n",
              "  <thead>\n",
              "    <tr style=\"text-align: right;\">\n",
              "      <th></th>\n",
              "      <th>Total day charge</th>\n",
              "      <th>Total eve charge</th>\n",
              "      <th>Total night charge</th>\n",
              "    </tr>\n",
              "    <tr>\n",
              "      <th>Churn</th>\n",
              "      <th></th>\n",
              "      <th></th>\n",
              "      <th></th>\n",
              "    </tr>\n",
              "  </thead>\n",
              "  <tbody>\n",
              "    <tr>\n",
              "      <th>False</th>\n",
              "      <td>29.828829</td>\n",
              "      <td>16.983024</td>\n",
              "      <td>8.946731</td>\n",
              "    </tr>\n",
              "    <tr>\n",
              "      <th>True</th>\n",
              "      <td>36.379053</td>\n",
              "      <td>19.105053</td>\n",
              "      <td>9.221789</td>\n",
              "    </tr>\n",
              "  </tbody>\n",
              "</table>\n",
              "</div>"
            ],
            "text/plain": [
              "       Total day charge  Total eve charge  Total night charge\n",
              "Churn                                                        \n",
              "False         29.828829         16.983024            8.946731\n",
              "True          36.379053         19.105053            9.221789"
            ]
          },
          "metadata": {
            "tags": []
          },
          "execution_count": 69
        }
      ]
    },
    {
      "cell_type": "code",
      "metadata": {
        "id": "N2dmiXypeQwm",
        "colab": {
          "base_uri": "https://localhost:8080/",
          "height": 173
        },
        "outputId": "1ccce85b-e6af-4a6c-bf71-a0466d1cef2c"
      },
      "source": [
        "df.pivot_table(['Total day charge', 'Total eve charge', 'Total night charge'],\n",
        "               ['Area code'], aggfunc='sum')"
      ],
      "execution_count": null,
      "outputs": [
        {
          "output_type": "execute_result",
          "data": {
            "text/html": [
              "<div>\n",
              "<style scoped>\n",
              "    .dataframe tbody tr th:only-of-type {\n",
              "        vertical-align: middle;\n",
              "    }\n",
              "\n",
              "    .dataframe tbody tr th {\n",
              "        vertical-align: top;\n",
              "    }\n",
              "\n",
              "    .dataframe thead th {\n",
              "        text-align: right;\n",
              "    }\n",
              "</style>\n",
              "<table border=\"1\" class=\"dataframe\">\n",
              "  <thead>\n",
              "    <tr style=\"text-align: right;\">\n",
              "      <th></th>\n",
              "      <th>Total day charge</th>\n",
              "      <th>Total eve charge</th>\n",
              "      <th>Total night charge</th>\n",
              "    </tr>\n",
              "    <tr>\n",
              "      <th>Area code</th>\n",
              "      <th></th>\n",
              "      <th></th>\n",
              "      <th></th>\n",
              "    </tr>\n",
              "  </thead>\n",
              "  <tbody>\n",
              "    <tr>\n",
              "      <th>408</th>\n",
              "      <td>5040.82</td>\n",
              "      <td>2902.52</td>\n",
              "      <td>1497.33</td>\n",
              "    </tr>\n",
              "    <tr>\n",
              "      <th>415</th>\n",
              "      <td>10393.94</td>\n",
              "      <td>5823.93</td>\n",
              "      <td>3062.14</td>\n",
              "    </tr>\n",
              "    <tr>\n",
              "      <th>510</th>\n",
              "      <td>5083.34</td>\n",
              "      <td>2802.82</td>\n",
              "      <td>1434.13</td>\n",
              "    </tr>\n",
              "  </tbody>\n",
              "</table>\n",
              "</div>"
            ],
            "text/plain": [
              "           Total day charge  Total eve charge  Total night charge\n",
              "Area code                                                        \n",
              "408                 5040.82           2902.52             1497.33\n",
              "415                10393.94           5823.93             3062.14\n",
              "510                 5083.34           2802.82             1434.13"
            ]
          },
          "metadata": {
            "tags": []
          },
          "execution_count": 71
        }
      ]
    },
    {
      "cell_type": "code",
      "metadata": {
        "id": "0jXsZ5jofYAF",
        "colab": {
          "base_uri": "https://localhost:8080/",
          "height": 173
        },
        "outputId": "277301be-50f6-437f-e304-6e454f59e76e"
      },
      "source": [
        "#Aggregate by area code\n",
        "df_total = df\n",
        "df_total['Total calls'] = df_total['Total day calls']+df_total['Total eve calls']+df_total['Total day calls']\n",
        "df_total.pivot_table(['Total calls'],['Area code'], aggfunc='sum')"
      ],
      "execution_count": 4,
      "outputs": [
        {
          "output_type": "execute_result",
          "data": {
            "text/html": [
              "<div>\n",
              "<style scoped>\n",
              "    .dataframe tbody tr th:only-of-type {\n",
              "        vertical-align: middle;\n",
              "    }\n",
              "\n",
              "    .dataframe tbody tr th {\n",
              "        vertical-align: top;\n",
              "    }\n",
              "\n",
              "    .dataframe thead th {\n",
              "        text-align: right;\n",
              "    }\n",
              "</style>\n",
              "<table border=\"1\" class=\"dataframe\">\n",
              "  <thead>\n",
              "    <tr style=\"text-align: right;\">\n",
              "      <th></th>\n",
              "      <th>Total calls</th>\n",
              "    </tr>\n",
              "    <tr>\n",
              "      <th>Area code</th>\n",
              "      <th></th>\n",
              "    </tr>\n",
              "  </thead>\n",
              "  <tbody>\n",
              "    <tr>\n",
              "      <th>408</th>\n",
              "      <td>50609</td>\n",
              "    </tr>\n",
              "    <tr>\n",
              "      <th>415</th>\n",
              "      <td>102425</td>\n",
              "    </tr>\n",
              "    <tr>\n",
              "      <th>510</th>\n",
              "      <td>48634</td>\n",
              "    </tr>\n",
              "  </tbody>\n",
              "</table>\n",
              "</div>"
            ],
            "text/plain": [
              "           Total calls\n",
              "Area code             \n",
              "408              50609\n",
              "415             102425\n",
              "510              48634"
            ]
          },
          "metadata": {
            "tags": []
          },
          "execution_count": 4
        }
      ]
    },
    {
      "cell_type": "code",
      "metadata": {
        "id": "1HmNrf1mhb4G",
        "colab": {
          "base_uri": "https://localhost:8080/",
          "height": 224
        },
        "outputId": "50e303d3-37cd-4743-93fe-3d77a61c75c5"
      },
      "source": [
        "df_total.groupby('Area code').sum()"
      ],
      "execution_count": null,
      "outputs": [
        {
          "output_type": "execute_result",
          "data": {
            "text/html": [
              "<div>\n",
              "<style scoped>\n",
              "    .dataframe tbody tr th:only-of-type {\n",
              "        vertical-align: middle;\n",
              "    }\n",
              "\n",
              "    .dataframe tbody tr th {\n",
              "        vertical-align: top;\n",
              "    }\n",
              "\n",
              "    .dataframe thead th {\n",
              "        text-align: right;\n",
              "    }\n",
              "</style>\n",
              "<table border=\"1\" class=\"dataframe\">\n",
              "  <thead>\n",
              "    <tr style=\"text-align: right;\">\n",
              "      <th></th>\n",
              "      <th>Account length</th>\n",
              "      <th>Number vmail messages</th>\n",
              "      <th>Total day minutes</th>\n",
              "      <th>Total day calls</th>\n",
              "      <th>Total day charge</th>\n",
              "      <th>Total eve minutes</th>\n",
              "      <th>Total eve calls</th>\n",
              "      <th>Total eve charge</th>\n",
              "      <th>Total night minutes</th>\n",
              "      <th>Total night calls</th>\n",
              "      <th>Total night charge</th>\n",
              "      <th>Total intl minutes</th>\n",
              "      <th>Total intl calls</th>\n",
              "      <th>Total intl charge</th>\n",
              "      <th>Customer service calls</th>\n",
              "      <th>Churn</th>\n",
              "      <th>Churn Num</th>\n",
              "      <th>Total calls</th>\n",
              "    </tr>\n",
              "    <tr>\n",
              "      <th>Area code</th>\n",
              "      <th></th>\n",
              "      <th></th>\n",
              "      <th></th>\n",
              "      <th></th>\n",
              "      <th></th>\n",
              "      <th></th>\n",
              "      <th></th>\n",
              "      <th></th>\n",
              "      <th></th>\n",
              "      <th></th>\n",
              "      <th></th>\n",
              "      <th></th>\n",
              "      <th></th>\n",
              "      <th></th>\n",
              "      <th></th>\n",
              "      <th></th>\n",
              "      <th></th>\n",
              "      <th></th>\n",
              "    </tr>\n",
              "  </thead>\n",
              "  <tbody>\n",
              "    <tr>\n",
              "      <th>408</th>\n",
              "      <td>17901</td>\n",
              "      <td>1267</td>\n",
              "      <td>28002.518141</td>\n",
              "      <td>16797</td>\n",
              "      <td>5040.82</td>\n",
              "      <td>34146.8</td>\n",
              "      <td>17015</td>\n",
              "      <td>2902.52</td>\n",
              "      <td>33273.3</td>\n",
              "      <td>17061</td>\n",
              "      <td>1497.33</td>\n",
              "      <td>1733.8</td>\n",
              "      <td>761</td>\n",
              "      <td>468.26</td>\n",
              "      <td>267</td>\n",
              "      <td>28</td>\n",
              "      <td>28</td>\n",
              "      <td>50609</td>\n",
              "    </tr>\n",
              "    <tr>\n",
              "      <th>415</th>\n",
              "      <td>34413</td>\n",
              "      <td>3027</td>\n",
              "      <td>58225.091904</td>\n",
              "      <td>34350</td>\n",
              "      <td>10393.94</td>\n",
              "      <td>68517.3</td>\n",
              "      <td>33725</td>\n",
              "      <td>5823.93</td>\n",
              "      <td>68047.7</td>\n",
              "      <td>33371</td>\n",
              "      <td>3062.14</td>\n",
              "      <td>3477.8</td>\n",
              "      <td>1538</td>\n",
              "      <td>939.18</td>\n",
              "      <td>524</td>\n",
              "      <td>41</td>\n",
              "      <td>41</td>\n",
              "      <td>102425</td>\n",
              "    </tr>\n",
              "    <tr>\n",
              "      <th>510</th>\n",
              "      <td>16281</td>\n",
              "      <td>1314</td>\n",
              "      <td>27709.710645</td>\n",
              "      <td>16178</td>\n",
              "      <td>5083.34</td>\n",
              "      <td>32973.9</td>\n",
              "      <td>16278</td>\n",
              "      <td>2802.82</td>\n",
              "      <td>31869.1</td>\n",
              "      <td>16344</td>\n",
              "      <td>1434.13</td>\n",
              "      <td>1617.4</td>\n",
              "      <td>721</td>\n",
              "      <td>436.78</td>\n",
              "      <td>252</td>\n",
              "      <td>26</td>\n",
              "      <td>26</td>\n",
              "      <td>48634</td>\n",
              "    </tr>\n",
              "  </tbody>\n",
              "</table>\n",
              "</div>"
            ],
            "text/plain": [
              "           Account length  Number vmail messages  ...  Churn Num  Total calls\n",
              "Area code                                         ...                        \n",
              "408                 17901                   1267  ...         28        50609\n",
              "415                 34413                   3027  ...         41       102425\n",
              "510                 16281                   1314  ...         26        48634\n",
              "\n",
              "[3 rows x 18 columns]"
            ]
          },
          "metadata": {
            "tags": []
          },
          "execution_count": 74
        }
      ]
    },
    {
      "cell_type": "code",
      "metadata": {
        "id": "Ty9ieU_SiDsg",
        "colab": {
          "base_uri": "https://localhost:8080/",
          "height": 102
        },
        "outputId": "92ce12ae-cb5f-4614-a42d-dbe435d6d2bd"
      },
      "source": [
        "df_total.groupby('Area code')['Account length'].mean()"
      ],
      "execution_count": null,
      "outputs": [
        {
          "output_type": "execute_result",
          "data": {
            "text/plain": [
              "Area code\n",
              "408    105.923077\n",
              "415    102.115727\n",
              "510    101.124224\n",
              "Name: Account length, dtype: float64"
            ]
          },
          "metadata": {
            "tags": []
          },
          "execution_count": 75
        }
      ]
    },
    {
      "cell_type": "code",
      "metadata": {
        "id": "BolmpkACiyyH",
        "colab": {
          "base_uri": "https://localhost:8080/",
          "height": 405
        },
        "outputId": "4729d469-1f43-40b3-81d1-3f9685426074"
      },
      "source": [
        "sns.countplot(df['Area code'],hue = df['Churn'],palette = 'bright')"
      ],
      "execution_count": null,
      "outputs": [
        {
          "output_type": "stream",
          "text": [
            "/usr/local/lib/python3.6/dist-packages/seaborn/_decorators.py:43: FutureWarning: Pass the following variable as a keyword arg: x. From version 0.12, the only valid positional argument will be `data`, and passing other arguments without an explicit keyword will result in an error or misinterpretation.\n",
            "  FutureWarning\n"
          ],
          "name": "stderr"
        },
        {
          "output_type": "execute_result",
          "data": {
            "text/plain": [
              "<matplotlib.axes._subplots.AxesSubplot at 0x7fc145b6fcf8>"
            ]
          },
          "metadata": {
            "tags": []
          },
          "execution_count": 80
        },
        {
          "output_type": "display_data",
          "data": {
            "image/png": "[encoded data removed]",
            "text/plain": [
              "<Figure size 720x360 with 1 Axes>"
            ]
          },
          "metadata": {
            "tags": [],
            "needs_background": "light"
          }
        }
      ]
    },
    {
      "cell_type": "code",
      "metadata": {
        "id": "D8CJQNG4kiJl",
        "colab": {
          "base_uri": "https://localhost:8080/",
          "height": 34
        },
        "outputId": "b6fb21d9-714d-45e7-d06a-c0bce3dfa186"
      },
      "source": [
        "df_retained = df[df['Churn']==False]\n",
        "df_retained.shape"
      ],
      "execution_count": null,
      "outputs": [
        {
          "output_type": "execute_result",
          "data": {
            "text/plain": [
              "(572, 22)"
            ]
          },
          "metadata": {
            "tags": []
          },
          "execution_count": 85
        }
      ]
    },
    {
      "cell_type": "code",
      "metadata": {
        "id": "02ULeYtLmRmg",
        "colab": {
          "base_uri": "https://localhost:8080/",
          "height": 408
        },
        "outputId": "361de7e8-4943-48c8-dc5f-394a9cc67cf4"
      },
      "source": [
        "df_churned = df.loc[df['Churn']==True]\n",
        "df_churned.iloc[-1]"
      ],
      "execution_count": null,
      "outputs": [
        {
          "output_type": "execute_result",
          "data": {
            "text/plain": [
              "State                          CA\n",
              "Account length                 84\n",
              "Area code                     415\n",
              "International plan             No\n",
              "Voice mail plan                No\n",
              "Number vmail messages           0\n",
              "Total day minutes         180.948\n",
              "Total day calls               113\n",
              "Total day charge             47.6\n",
              "Total eve minutes           202.2\n",
              "Total eve calls                90\n",
              "Total eve charge            17.19\n",
              "Total night minutes         156.8\n",
              "Total night calls             103\n",
              "Total night charge           7.06\n",
              "Total intl minutes           10.4\n",
              "Total intl calls                4\n",
              "Total intl charge            2.81\n",
              "Customer service calls          0\n",
              "Churn                        True\n",
              "Churn Num                       1\n",
              "Total calls                   316\n",
              "Name: 661, dtype: object"
            ]
          },
          "metadata": {
            "tags": []
          },
          "execution_count": 87
        }
      ]
    },
    {
      "cell_type": "code",
      "metadata": {
        "id": "CmDXBrG_mtNN",
        "colab": {
          "base_uri": "https://localhost:8080/",
          "height": 366
        },
        "outputId": "f0a91a25-f7e1-4ecd-f5c0-2c83171d6c48"
      },
      "source": [
        "#Distribution\n",
        "y = df['Account length']\n",
        "plt.figure(1); plt.title('Account length')\n",
        "sns.distplot(y, kde=False, fit=st.norm)"
      ],
      "execution_count": null,
      "outputs": [
        {
          "output_type": "stream",
          "text": [
            "/usr/local/lib/python3.6/dist-packages/seaborn/distributions.py:2551: FutureWarning: `distplot` is a deprecated function and will be removed in a future version. Please adapt your code to use either `displot` (a figure-level function with similar flexibility) or `histplot` (an axes-level function for histograms).\n",
            "  warnings.warn(msg, FutureWarning)\n"
          ],
          "name": "stderr"
        },
        {
          "output_type": "execute_result",
          "data": {
            "text/plain": [
              "<matplotlib.axes._subplots.AxesSubplot at 0x7f295bdfd400>"
            ]
          },
          "metadata": {
            "tags": []
          },
          "execution_count": 12
        },
        {
          "output_type": "display_data",
          "data": {
            "image/png": "[encoded data removed]",
            "text/plain": [
              "<Figure size 432x288 with 1 Axes>"
            ]
          },
          "metadata": {
            "tags": [],
            "needs_background": "light"
          }
        }
      ]
    },
    {
      "cell_type": "code",
      "metadata": {
        "colab": {
          "base_uri": "https://localhost:8080/",
          "height": 286
        },
        "id": "H3AVX35pq9fV",
        "outputId": "e57c5c2d-978e-40ce-8355-3c6d4529a15b"
      },
      "source": [
        "#Categorizing variables by transfromation\n",
        "df_total['Total minutes'] = df_total['Total day minutes']+df_total['Total eve minutes']+df_total['Total day minutes']\n",
        "df_total['Total minutes'].plot.hist()"
      ],
      "execution_count": 6,
      "outputs": [
        {
          "output_type": "execute_result",
          "data": {
            "text/plain": [
              "<matplotlib.axes._subplots.AxesSubplot at 0x7faad1d61a58>"
            ]
          },
          "metadata": {
            "tags": []
          },
          "execution_count": 6
        },
        {
          "output_type": "display_data",
          "data": {
            "image/png": "[encoded data removed]",
            "text/plain": [
              "<Figure size 432x288 with 1 Axes>"
            ]
          },
          "metadata": {
            "tags": [],
            "needs_background": "light"
          }
        }
      ]
    },
    {
      "cell_type": "code",
      "metadata": {
        "colab": {
          "base_uri": "https://localhost:8080/",
          "height": 282
        },
        "id": "bSNSl4BUr0yV",
        "outputId": "09ab970c-4aad-4af7-ba2e-c9b5297fb4fb"
      },
      "source": [
        "#Applying log conversion for daily minutes to simplify calculations\n",
        "np.log10(df_total['Total minutes']).plot.hist()"
      ],
      "execution_count": 9,
      "outputs": [
        {
          "output_type": "execute_result",
          "data": {
            "text/plain": [
              "<matplotlib.axes._subplots.AxesSubplot at 0x7faad1cc6668>"
            ]
          },
          "metadata": {
            "tags": []
          },
          "execution_count": 9
        },
        {
          "output_type": "display_data",
          "data": {
            "image/png": "[encoded data removed]",
            "text/plain": [
              "<Figure size 432x288 with 1 Axes>"
            ]
          },
          "metadata": {
            "tags": [],
            "needs_background": "light"
          }
        }
      ]
    },
    {
      "cell_type": "code",
      "metadata": {
        "colab": {
          "base_uri": "https://localhost:8080/",
          "height": 282
        },
        "id": "Hiuw3em2ucUB",
        "outputId": "4efc7cb2-8242-492d-c43b-9958ae2a044b"
      },
      "source": [
        "np.log10(df_total['Total minutes']).plot.box()"
      ],
      "execution_count": 14,
      "outputs": [
        {
          "output_type": "execute_result",
          "data": {
            "text/plain": [
              "<matplotlib.axes._subplots.AxesSubplot at 0x7faad1256f60>"
            ]
          },
          "metadata": {
            "tags": []
          },
          "execution_count": 14
        },
        {
          "output_type": "display_data",
          "data": {
            "image/png": "[encoded data removed]",
            "text/plain": [
              "<Figure size 432x288 with 1 Axes>"
            ]
          },
          "metadata": {
            "tags": [],
            "needs_background": "light"
          }
        }
      ]
    },
    {
      "cell_type": "code",
      "metadata": {
        "colab": {
          "base_uri": "https://localhost:8080/",
          "height": 282
        },
        "id": "FMX0k47BsWmR",
        "outputId": "af8bfcee-4610-405c-96e3-07d4bf215772"
      },
      "source": [
        "#Applying square root conversion for daily minutes to simplify calculations\n",
        "np.power(df_total['Total minutes'],0.5).plot.hist()"
      ],
      "execution_count": 11,
      "outputs": [
        {
          "output_type": "execute_result",
          "data": {
            "text/plain": [
              "<matplotlib.axes._subplots.AxesSubplot at 0x7faad156ef98>"
            ]
          },
          "metadata": {
            "tags": []
          },
          "execution_count": 11
        },
        {
          "output_type": "display_data",
          "data": {
            "image/png": "[encoded data removed]",
            "text/plain": [
              "<Figure size 432x288 with 1 Axes>"
            ]
          },
          "metadata": {
            "tags": [],
            "needs_background": "light"
          }
        }
      ]
    },
    {
      "cell_type": "code",
      "metadata": {
        "colab": {
          "base_uri": "https://localhost:8080/",
          "height": 282
        },
        "id": "utQJQ7ipuAEH",
        "outputId": "b5aed95a-df66-432b-c19a-9352bf3f9d8a"
      },
      "source": [
        "np.power(df_total['Total minutes'],0.5).plot.box()"
      ],
      "execution_count": 12,
      "outputs": [
        {
          "output_type": "execute_result",
          "data": {
            "text/plain": [
              "<matplotlib.axes._subplots.AxesSubplot at 0x7faad15551d0>"
            ]
          },
          "metadata": {
            "tags": []
          },
          "execution_count": 12
        },
        {
          "output_type": "display_data",
          "data": {
            "image/png": "[encoded data removed]",
            "text/plain": [
              "<Figure size 432x288 with 1 Axes>"
            ]
          },
          "metadata": {
            "tags": [],
            "needs_background": "light"
          }
        }
      ]
    },
    {
      "cell_type": "code",
      "metadata": {
        "id": "XvL5H_7Vuna2"
      },
      "source": [
        "#Categorise users based on active usage \n",
        "#Added the new column to df \n",
        "df_total['Log total minutes'] = np.log10(df_total['Total minutes'])"
      ],
      "execution_count": null,
      "outputs": []
    },
    {
      "cell_type": "code",
      "metadata": {
        "id": "j2nuhJQ1vCxm"
      },
      "source": [
        "#Categories based on log values \n",
        "bins = [0,2.5,2.8,5]\n",
        "cat = ['low','medium','high']"
      ],
      "execution_count": 15,
      "outputs": []
    },
    {
      "cell_type": "code",
      "metadata": {
        "colab": {
          "base_uri": "https://localhost:8080/"
        },
        "id": "fF7anPUHvj8j",
        "outputId": "2c84cbd8-39b1-4f48-f578-b869d4469e3f"
      },
      "source": [
        "df_total['Customer category'] = pd.cut(df_total['Log total minutes'],bins,labels=cat)\n",
        "df_total['Customer category'].value_counts()"
      ],
      "execution_count": 17,
      "outputs": [
        {
          "output_type": "execute_result",
          "data": {
            "text/plain": [
              "medium    466\n",
              "high      189\n",
              "low        12\n",
              "Name: Customer category, dtype: int64"
            ]
          },
          "metadata": {
            "tags": []
          },
          "execution_count": 17
        }
      ]
    },
    {
      "cell_type": "code",
      "metadata": {
        "colab": {
          "base_uri": "https://localhost:8080/",
          "height": 386
        },
        "id": "--qboLDXwId-",
        "outputId": "93a76ff0-82be-4d04-9d8e-da8862a39884"
      },
      "source": [
        "plt.rcParams[\"figure.figsize\"] = (10,5)\n",
        "sns.countplot(df_total['Customer category'],palette = 'cool')\n",
        "plt.title(\"Customer Categories\",fontsize=15)\n",
        "plt.xlabel(\"Category\",fontsize=10)\n",
        "plt.ylabel(\"Customers\",fontsize=10)\n",
        "plt.show()"
      ],
      "execution_count": 19,
      "outputs": [
        {
          "output_type": "stream",
          "text": [
            "/usr/local/lib/python3.6/dist-packages/seaborn/_decorators.py:43: FutureWarning: Pass the following variable as a keyword arg: x. From version 0.12, the only valid positional argument will be `data`, and passing other arguments without an explicit keyword will result in an error or misinterpretation.\n",
            "  FutureWarning\n"
          ],
          "name": "stderr"
        },
        {
          "output_type": "display_data",
          "data": {
            "image/png": "[encoded data removed]",
            "text/plain": [
              "<Figure size 720x360 with 1 Axes>"
            ]
          },
          "metadata": {
            "tags": [],
            "needs_background": "light"
          }
        }
      ]
    }
  ]
}